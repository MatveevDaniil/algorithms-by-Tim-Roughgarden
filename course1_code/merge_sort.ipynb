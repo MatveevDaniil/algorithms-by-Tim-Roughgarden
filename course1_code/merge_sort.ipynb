{
 "cells": [
  {
   "cell_type": "markdown",
   "id": "a75cebee",
   "metadata": {},
   "source": [
    "## Merge Sort"
   ]
  },
  {
   "cell_type": "markdown",
   "id": "facf6b3d",
   "metadata": {},
   "source": [
    "<img src=\"img/merge_sort_pseudo_code.png\" alt=\"Drawing\" style=\"width: 400px;\" align=\"left\">"
   ]
  },
  {
   "cell_type": "code",
   "execution_count": 23,
   "id": "b366971a",
   "metadata": {},
   "outputs": [],
   "source": [
    "def merge_sort(arr):\n",
    "    if len(arr) <= 1:\n",
    "        return arr\n",
    "    m = len(arr) // 2\n",
    "    larr = merge_sort(arr[:m])\n",
    "    rarr = merge_sort(arr[m:])\n",
    "    out = []\n",
    "    l = r = 0\n",
    "    for i in range(len(arr)):\n",
    "        if l < m and (r >= len(arr) - m or larr[l] < rarr[r]):\n",
    "            out.append(larr[l])\n",
    "            l += 1\n",
    "        else:\n",
    "            out.append(rarr[r])\n",
    "            r += 1\n",
    "    return out"
   ]
  },
  {
   "cell_type": "markdown",
   "id": "af3d4cb2",
   "metadata": {},
   "source": [
    "### test"
   ]
  },
  {
   "cell_type": "code",
   "execution_count": 7,
   "id": "e987662f",
   "metadata": {},
   "outputs": [
    {
     "name": "stdout",
     "output_type": "stream",
     "text": [
      "Test 0 passed\n",
      "Test 1 passed\n",
      "Test 2 passed\n",
      "Test 3 passed\n",
      "Test 4 passed\n",
      "Test 5 passed\n",
      "Test 6 passed\n",
      "Test 7 passed\n"
     ]
    }
   ],
   "source": [
    "import numpy as np\n",
    "from helpers_functions import test_function\n",
    "\n",
    "test_cases = [([item], sorted(item)) for item in [\n",
    "    [],\n",
    "    [1],\n",
    "    [2, 1],\n",
    "    [1, 2, 3],\n",
    "    [3, 2, 1],\n",
    "    [4, 5, 6, 1, 2, 3],\n",
    "    [4, 5, 6, 1, 2, 3, 7],\n",
    "    np.random.random(100),\n",
    "]]\n",
    "\n",
    "test_function(merge_sort, test_cases)"
   ]
  },
  {
   "cell_type": "markdown",
   "id": "08ba857a",
   "metadata": {},
   "source": [
    "### time complexity"
   ]
  },
  {
   "cell_type": "markdown",
   "id": "d7968f92",
   "metadata": {},
   "source": [
    "$\\frac{C*10n*log(10n)}{C*n*log(n)}=10(1+\\frac{log(10)}{log(n)})=10(1+log_{n}10)=10(1+log_{10^k}10)=10(1+\\frac{1}{k}) \\rightarrow 10$"
   ]
  },
  {
   "cell_type": "code",
   "execution_count": 24,
   "id": "bb6ae73a",
   "metadata": {},
   "outputs": [],
   "source": [
    "import timeit\n",
    "\n",
    "times=[]\n",
    "for i in range(1, 8):\n",
    "    arr = np.random.random(10 ** i)\n",
    "    loop = 1\n",
    "    total_time = timeit.timeit('merge_sort(arr)', globals=globals(), number=loop)\n",
    "    times.append(total_time / loop)"
   ]
  },
  {
   "cell_type": "code",
   "execution_count": 25,
   "id": "f7247c2a",
   "metadata": {},
   "outputs": [
    {
     "name": "stdout",
     "output_type": "stream",
     "text": [
      "11.018888266862144\n"
     ]
    }
   ],
   "source": [
    "print((np.array(times[1:]) / np.array(times[:-1])).mean())"
   ]
  },
  {
   "cell_type": "code",
   "execution_count": 26,
   "id": "a66cd5b0",
   "metadata": {},
   "outputs": [
    {
     "data": {
      "text/plain": [
       "array([ 6.08080048, 11.02614959, 13.63926591,  9.86020997, 13.26076471,\n",
       "       12.24613894])"
      ]
     },
     "execution_count": 26,
     "metadata": {},
     "output_type": "execute_result"
    }
   ],
   "source": [
    "np.array(times[1:]) / np.array(times[:-1])"
   ]
  },
  {
   "cell_type": "markdown",
   "id": "ba2c209d",
   "metadata": {},
   "source": [
    "again we see that theoretical complexity is pretty far from real complexity"
   ]
  }
 ],
 "metadata": {
  "kernelspec": {
   "display_name": "Python 3 (ipykernel)",
   "language": "python",
   "name": "python3"
  },
  "language_info": {
   "codemirror_mode": {
    "name": "ipython",
    "version": 3
   },
   "file_extension": ".py",
   "mimetype": "text/x-python",
   "name": "python",
   "nbconvert_exporter": "python",
   "pygments_lexer": "ipython3",
   "version": "3.11.1"
  }
 },
 "nbformat": 4,
 "nbformat_minor": 5
}
