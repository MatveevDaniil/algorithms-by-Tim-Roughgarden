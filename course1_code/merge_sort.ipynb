{
 "cells": [
  {
   "cell_type": "markdown",
   "id": "4d97ab09",
   "metadata": {},
   "source": [
    "## реализация на массиве\n",
    "\n"
   ]
  },
  {
   "cell_type": "code",
   "execution_count": 2,
   "id": "a5bb9975",
   "metadata": {},
   "outputs": [],
   "source": [
    "def merge(inp: list, copy: list, start: int, mid: int, end: int) -> None:\n",
    "    i = start\n",
    "    j = mid\n",
    "    for k in range(start, end):\n",
    "        if j >= end or i < mid and inp[i] <= inp[j]:\n",
    "            copy[k] = inp[i]\n",
    "            i += 1\n",
    "        else:\n",
    "            copy[k] = inp[j]\n",
    "            j += 1\n",
    "    for k in range(start, end):\n",
    "        inp[k] = copy[k]\n",
    "            \n",
    "\n",
    "def merge_sort(inp: list, copy: list, start: int, end: int) -> None:\n",
    "    if end - start <= 1:\n",
    "        return \n",
    "    mid = (end + start) // 2\n",
    "    merge_sort(inp, copy, start, mid)\n",
    "    merge_sort(inp, copy, mid, end)\n",
    "#     print('b', inp[start: mid], inp[mid: end], copy[start: end], start, mid, end)\n",
    "    merge(inp, copy, start, mid, end)\n",
    "#     print('a', inp[start: mid], inp[mid: end], copy[start: end], start, mid, end)"
   ]
  },
  {
   "cell_type": "code",
   "execution_count": 54,
   "id": "69680afe",
   "metadata": {},
   "outputs": [
    {
     "data": {
      "text/plain": [
       "198615292246"
      ]
     },
     "execution_count": 54,
     "metadata": {},
     "output_type": "execute_result"
    }
   ],
   "source": [
    "308707 * 643378"
   ]
  },
  {
   "cell_type": "code",
   "execution_count": 9,
   "id": "51f12f0b",
   "metadata": {},
   "outputs": [],
   "source": [
    "import random\n",
    "\n",
    "def test_merge_sort(merge_sort_func: callable):\n",
    "    test_cases = [\n",
    "        [],\n",
    "        [1],\n",
    "        [2, 1],\n",
    "        [1, 2, 3],\n",
    "        [3, 2, 1],\n",
    "        [4, 5, 6, 1, 2, 3],\n",
    "        [4, 5, 6, 1, 2, 3, 7],\n",
    "        [random.randint(1, 100) for _ in range(10)],\n",
    "    ]\n",
    "\n",
    "    for inp in test_cases:\n",
    "        out = merge_sort_func(inp)\n",
    "        assert out == sorted(inp), f\"Failed for {inp}\""
   ]
  },
  {
   "cell_type": "markdown",
   "id": "e4005823",
   "metadata": {},
   "source": [
    "merge2 "
   ]
  },
  {
   "cell_type": "code",
   "execution_count": 10,
   "id": "3d8ad12c",
   "metadata": {},
   "outputs": [],
   "source": [
    "def merge_sort(arr):\n",
    "    if len(arr) <= 1:\n",
    "        return arr\n",
    "    m = len(arr) // 2\n",
    "    larr = merge_sort(arr[:m])\n",
    "    rarr = merge_sort(arr[m:])\n",
    "    out = []\n",
    "    l = r = 0\n",
    "    for i in range(len(arr)):\n",
    "        if l < m and (r >= len(arr) - m or larr[l] < rarr[r]):\n",
    "            out.append(larr[l])\n",
    "            l += 1\n",
    "        else:\n",
    "            out.append(rarr[r])\n",
    "            r += 1\n",
    "    return out"
   ]
  },
  {
   "cell_type": "code",
   "execution_count": 11,
   "id": "e987662f",
   "metadata": {},
   "outputs": [],
   "source": [
    "test_merge_sort(merge_sort)"
   ]
  },
  {
   "cell_type": "code",
   "execution_count": null,
   "id": "bb6ae73a",
   "metadata": {},
   "outputs": [],
   "source": []
  }
 ],
 "metadata": {
  "kernelspec": {
   "display_name": "Python 3 (ipykernel)",
   "language": "python",
   "name": "python3"
  },
  "language_info": {
   "codemirror_mode": {
    "name": "ipython",
    "version": 3
   },
   "file_extension": ".py",
   "mimetype": "text/x-python",
   "name": "python",
   "nbconvert_exporter": "python",
   "pygments_lexer": "ipython3",
   "version": "3.11.1"
  }
 },
 "nbformat": 4,
 "nbformat_minor": 5
}
