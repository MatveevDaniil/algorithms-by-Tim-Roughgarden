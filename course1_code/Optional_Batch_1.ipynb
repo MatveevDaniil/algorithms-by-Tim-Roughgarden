{
 "cells": [
  {
   "cell_type": "markdown",
   "id": "5a8cc732",
   "metadata": {},
   "source": [
    "# Task I"
   ]
  },
  {
   "cell_type": "markdown",
   "id": "d559f5ae",
   "metadata": {},
   "source": [
    "You are given as input an unsorted array of n distinct numbers, where n is a power of 2. Give an algorithm that identifies the second-largest number in the array, and that uses at most $n + log_2 n - 2$ comparisons.\n",
    "\n",
    "Solution algo from [this paper](http://users.csc.calpoly.edu/~dekhtyar/349-Spring2010/lectures/lec03.349.pdf)\n",
    "\n",
    "<img src=\"img/second_max.jpeg\" alt=\"Drawing\" style=\"width: 400px;\" align=\"left\">"
   ]
  },
  {
   "cell_type": "code",
   "execution_count": 1,
   "id": "3becc166",
   "metadata": {},
   "outputs": [],
   "source": [
    "import math\n",
    "\n",
    "def second_max(arr: list) -> int:\n",
    "    \n",
    "    max_chains = []\n",
    "    for idx in range(len(arr) // 2):\n",
    "        if arr[2 * idx] < arr[2 * idx + 1]:\n",
    "            max_chains.append((arr[2 * idx + 1], [arr[2 * idx]]))\n",
    "        else:\n",
    "            max_chains.append((arr[2 * idx], [arr[2 * idx + 1]]))\n",
    "            \n",
    "    for power in range(2, round(math.log2(len(arr))) + 1):\n",
    "        arr = max_chains\n",
    "        max_chains = []\n",
    "        for idx in range(len(arr) // 2):\n",
    "            if arr[2 * idx][0] < arr[2 * idx + 1][0]:\n",
    "                max_chains.append((\n",
    "                    arr[2 * idx + 1][0], \n",
    "                    arr[2 * idx + 1][1] + [arr[2 * idx][0]]))\n",
    "            else:\n",
    "                max_chains.append((\n",
    "                    arr[2 * idx][0], \n",
    "                    arr[2 * idx][1] + [arr[2 * idx + 1][0]]))\n",
    "    return max(max_chains[0][1])\n",
    "    "
   ]
  },
  {
   "cell_type": "code",
   "execution_count": 2,
   "id": "fcc41a05",
   "metadata": {},
   "outputs": [],
   "source": [
    "from helpers_functions import test_function"
   ]
  },
  {
   "cell_type": "code",
   "execution_count": 3,
   "id": "f8f4b03d",
   "metadata": {
    "scrolled": true
   },
   "outputs": [
    {
     "name": "stdout",
     "output_type": "stream",
     "text": [
      "Test 0 passed\n",
      "Test 1 passed\n",
      "Test 2 passed\n",
      "Test 3 passed\n",
      "Test 4 passed\n",
      "Test 5 passed\n",
      "Test 6 passed\n",
      "Test 7 passed\n",
      "Test 8 passed\n"
     ]
    }
   ],
   "source": [
    "import random\n",
    "\n",
    "test_cases_sm = [\n",
    "    ([arr], list(sorted(arr))[-2]) for arr in [\n",
    "        list(range(2 ** i)) for i in range(1, 10)\n",
    "    ]\n",
    "]\n",
    "\n",
    "test_function(second_max, test_cases_sm)"
   ]
  },
  {
   "cell_type": "markdown",
   "id": "42364ef6",
   "metadata": {},
   "source": [
    "# Task II"
   ]
  },
  {
   "cell_type": "markdown",
   "id": "58b0e1bd",
   "metadata": {},
   "source": [
    "You are a given a unimodal array of n distinct elements, meaning that its entries are in increasing order up until its maximum element, after which its elements are in decreasing order. Give an algorithm to compute the maximum element that runs in $O(\\log n)$ time."
   ]
  },
  {
   "cell_type": "code",
   "execution_count": 4,
   "id": "2d25e39e",
   "metadata": {},
   "outputs": [],
   "source": [
    "# The idea is to watch on the nearest numbers to the arr_m, where m = len(arr) / 2\n",
    "# lets consider smallest cases, to understand correctly conditions inside function:\n",
    "# [0, 1, 0, -1, -2] m=5//2=2 down down +\n",
    "#        ^\n",
    "# [0, 1, 2, 3, 2] m=5//2=2 up up -\n",
    "#        ^\n",
    "# [0, 1, 2, 1, 0] m=5//2=2 up down -\n",
    "#        ^\n",
    "# [0, 1, 0] m=3//2=1 up down -\n",
    "#     ^\n",
    "# [0, 1] m=2//2=1 up -\n",
    "#     ^\n",
    "# [1, 0] m=2//2=1 down +\n",
    "#     ^"
   ]
  },
  {
   "cell_type": "code",
   "execution_count": 5,
   "id": "aad34ec0",
   "metadata": {},
   "outputs": [],
   "source": [
    "def unisearch(arr: list) -> int:\n",
    "    if len(arr) <= 1:\n",
    "        return arr[0] if len(arr) == 1 else None\n",
    "    m = len(arr) // 2\n",
    "    if arr[m] > arr[m - 1]: # up\n",
    "        return unisearch(arr[m:])\n",
    "    else: # down\n",
    "        return unisearch(arr[:m])"
   ]
  },
  {
   "cell_type": "code",
   "execution_count": 6,
   "id": "1dadb51a",
   "metadata": {
    "scrolled": true
   },
   "outputs": [
    {
     "name": "stdout",
     "output_type": "stream",
     "text": [
      "Test 0 passed\n",
      "Test 1 passed\n",
      "Test 2 passed\n",
      "Test 3 passed\n",
      "Test 4 passed\n",
      "Test 5 passed\n",
      "Test 6 passed\n",
      "Test 7 passed\n",
      "Test 8 passed\n"
     ]
    }
   ],
   "source": [
    "test_cases_us = [\n",
    "    ([arr], max(arr)) for arr in [\n",
    "        [0, 1, 0, -1, -2],\n",
    "        [0, 1, 2, 3, 2],\n",
    "        [0, 1, 2, 1, 0],\n",
    "        [0, 1, 0],\n",
    "        [0, 1],\n",
    "        [1, 0],\n",
    "        [1],\n",
    "        [10, 9, 8, 7],\n",
    "        [7, 8, 9, 10]\n",
    "    ]\n",
    "]\n",
    "\n",
    "test_function(unisearch, test_cases_us)"
   ]
  },
  {
   "cell_type": "markdown",
   "id": "848abc65",
   "metadata": {},
   "source": [
    "how we see, solving smallest cases is very usefull - I coded correct solution from the first try, which is very rare for me, if I just start to solve problem without pre-worl"
   ]
  },
  {
   "cell_type": "code",
   "execution_count": 7,
   "id": "722a08dd",
   "metadata": {},
   "outputs": [],
   "source": [
    "from helpers_functions import time_inp_data"
   ]
  },
  {
   "cell_type": "code",
   "execution_count": 31,
   "id": "f4831b2d",
   "metadata": {},
   "outputs": [],
   "source": [
    "test_time_cases_us = [\n",
    "    [list(range(1, 2 ** i + 1)) + list(range(2 ** i + 2, 1))[::-1]] for i in range(15) \n",
    "]\n",
    "\n",
    "time_diff = time_inp_data(unisearch, test_time_cases_us, 1000)"
   ]
  },
  {
   "cell_type": "code",
   "execution_count": 32,
   "id": "85e18404",
   "metadata": {},
   "outputs": [
    {
     "data": {
      "text/plain": [
       "array([2.24337349, 1.56552095, 2.14236707, 0.85780624, 1.23688632,\n",
       "       1.24947178, 1.1869791 , 1.41416506, 1.37741959, 1.37258385,\n",
       "       1.49996194, 1.63803603, 1.73373093, 1.77464462])"
      ]
     },
     "execution_count": 32,
     "metadata": {},
     "output_type": "execute_result"
    }
   ],
   "source": [
    "time_diff"
   ]
  },
  {
   "cell_type": "markdown",
   "id": "86a3c637",
   "metadata": {},
   "source": [
    "$\\frac{\\log 2N}{\\log N}=1 + \\log_N{2} \\rightarrow 1$ \n",
    "\n",
    "now we vividly see, that time tests contradict with theoretical time approximation!\n",
    "\n",
    "lets count steps:"
   ]
  },
  {
   "cell_type": "code",
   "execution_count": 25,
   "id": "c8f86e64",
   "metadata": {
    "scrolled": true
   },
   "outputs": [
    {
     "data": {
      "text/plain": [
       "((16384, 15), (32, 6))"
      ]
     },
     "execution_count": 25,
     "metadata": {},
     "output_type": "execute_result"
    }
   ],
   "source": [
    "from typing import Tuple\n",
    "\n",
    "def unisearch_steps(arr: list, steps: int=0) -> Tuple[int, int]:\n",
    "    if len(arr) <= 1:\n",
    "        return arr[0], steps + 1\n",
    "    m = len(arr) // 2\n",
    "    if arr[m] > arr[m - 1]: # up\n",
    "        return unisearch_steps(arr[m:], steps + 1)\n",
    "    else: # down\n",
    "        return unisearch_steps(arr[:m], steps + 1)\n",
    "    \n",
    "unisearch_steps(test_time[-1][0]), unisearch_steps(test_time[5][0])"
   ]
  },
  {
   "cell_type": "markdown",
   "id": "d429bfec",
   "metadata": {},
   "source": [
    "well, we do as much recursive calls as needed, so probably the problem is in recursion tree realization itself.\n",
    "\n",
    "Let's rewrite the function without recursion\n",
    "\n",
    "Again it is impossible to write correct algorithm without considering smallest cases."
   ]
  },
  {
   "cell_type": "code",
   "execution_count": 29,
   "id": "dcfe3f2e",
   "metadata": {},
   "outputs": [],
   "source": [
    "# [0, 1]\n",
    "# l = 0 -> 1=m\n",
    "# r = 2\n",
    "# m = 1\n",
    "# correct answer l\n",
    "\n",
    "# [1, 0]\n",
    "# l = 0\n",
    "# r = 2->1=m\n",
    "# m = 1\n",
    "# again correct answer l, we are lucky;)"
   ]
  },
  {
   "cell_type": "code",
   "execution_count": 27,
   "id": "4da64c0f",
   "metadata": {},
   "outputs": [],
   "source": [
    "def unisearch_no_recursion(arr: list) -> int:\n",
    "    l = 0\n",
    "    r = len(arr)\n",
    "    while l < r - 1:\n",
    "        m = (l + r) // 2\n",
    "        if arr[m] > arr[m - 1]: # up\n",
    "            l = m\n",
    "        else: # down\n",
    "            r = m\n",
    "    return arr[l]"
   ]
  },
  {
   "cell_type": "code",
   "execution_count": 28,
   "id": "001a7dd0",
   "metadata": {},
   "outputs": [
    {
     "name": "stdout",
     "output_type": "stream",
     "text": [
      "Test 0 passed\n",
      "Test 1 passed\n",
      "Test 2 passed\n",
      "Test 3 passed\n",
      "Test 4 passed\n",
      "Test 5 passed\n",
      "Test 6 passed\n",
      "Test 7 passed\n",
      "Test 8 passed\n"
     ]
    }
   ],
   "source": [
    "test_function(unisearch_no_recursion, test_cases_us)"
   ]
  },
  {
   "cell_type": "markdown",
   "id": "0e3a9f4d",
   "metadata": {},
   "source": [
    "Great, considering test cases helped to write correct algo from the first try!"
   ]
  },
  {
   "cell_type": "code",
   "execution_count": 33,
   "id": "2c15fb33",
   "metadata": {},
   "outputs": [
    {
     "data": {
      "text/plain": [
       "array([1.72964535, 1.26727312, 1.37902353, 1.1084855 , 1.13081395,\n",
       "       1.09356667, 1.14309394, 1.1837644 , 1.4424152 , 1.1231413 ,\n",
       "       0.9284418 , 1.02962996, 1.0743665 , 1.07148116])"
      ]
     },
     "execution_count": 33,
     "metadata": {},
     "output_type": "execute_result"
    }
   ],
   "source": [
    "time_diff_no_rec = time_inp_data(unisearch_no_recursion, test_time_cases_us, 10000)\n",
    "time_diff_no_rec"
   ]
  },
  {
   "cell_type": "markdown",
   "id": "ce42e6c8",
   "metadata": {},
   "source": [
    "this seems to be more near to the truth, but again not ideal converge"
   ]
  },
  {
   "cell_type": "markdown",
   "id": "aac13758",
   "metadata": {},
   "source": [
    "# Task III"
   ]
  },
  {
   "cell_type": "code",
   "execution_count": 11,
   "id": "2bc5f7f1",
   "metadata": {},
   "outputs": [
    {
     "data": {
      "text/plain": [
       "numpy.ndarray"
      ]
     },
     "execution_count": 11,
     "metadata": {},
     "output_type": "execute_result"
    }
   ],
   "source": [
    "import numpy as np\n",
    "np.ndarray"
   ]
  },
  {
   "cell_type": "code",
   "execution_count": null,
   "id": "b7c8d4b3",
   "metadata": {},
   "outputs": [],
   "source": []
  }
 ],
 "metadata": {
  "kernelspec": {
   "display_name": "Python 3 (ipykernel)",
   "language": "python",
   "name": "python3"
  },
  "language_info": {
   "codemirror_mode": {
    "name": "ipython",
    "version": 3
   },
   "file_extension": ".py",
   "mimetype": "text/x-python",
   "name": "python",
   "nbconvert_exporter": "python",
   "pygments_lexer": "ipython3",
   "version": "3.11.1"
  }
 },
 "nbformat": 4,
 "nbformat_minor": 5
}
