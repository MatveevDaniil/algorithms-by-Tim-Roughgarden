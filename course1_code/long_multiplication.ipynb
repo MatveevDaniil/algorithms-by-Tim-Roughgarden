{
 "cells": [
  {
   "cell_type": "code",
   "execution_count": 38,
   "id": "c41b5804",
   "metadata": {},
   "outputs": [],
   "source": [
    "a_ = '3141592653589793238462643383279502884197169399375105820974944592'\n",
    "\n",
    "b_ = '2718281828459045235360287471352662497757247093699959574966967627'"
   ]
  },
  {
   "cell_type": "code",
   "execution_count": 9,
   "id": "b3801203",
   "metadata": {},
   "outputs": [],
   "source": [
    "def dig_mult(a: str, b: str) -> str:\n",
    "    return str(int(a) * int(b))\n",
    "\n",
    "def str_sum(a: str, b: str) -> str:\n",
    "    return str(int(a) + int(b))\n",
    "\n",
    "def add_zeros(a: str, n: int) -> str:\n",
    "    return a + '0' * n"
   ]
  },
  {
   "cell_type": "code",
   "execution_count": 43,
   "id": "935d7d3d",
   "metadata": {},
   "outputs": [],
   "source": [
    "from typing import Union\n",
    "\n",
    "def karatsuba_mult(x: str, y: str) -> int:\n",
    "    if len(x) == 1 or len(y) == 1:\n",
    "        return dig_mult(x, y)\n",
    "    mid = len(str(x)) // 2\n",
    "    a, b, c, d = x[:-mid], x[-mid:], y[:-mid], y[-mid:]\n",
    "#     print(x, y, a, b, c, d)\n",
    "    ac = karatsuba_mult(a, c)\n",
    "    bd = karatsuba_mult(b, d)\n",
    "    aPb_cPd = karatsuba_mult(str_sum(a, b), str_sum(c, d))\n",
    "    a_dPb_c = str(int(aPb_cPd) - int(ac) - int(bd))\n",
    "    final_res = str(int(ac + '0' * (2 * mid)) + int(a_dPb_c + '0' * (mid)) + int(bd))\n",
    "#     print(x, y, ac, a_dPb_c, bd, final_res)\n",
    "    return final_res\n",
    "\n",
    "def test():\n",
    "    test_cases = [\n",
    "        (12, 34),\n",
    "        (1, 2),\n",
    "        (1234, 9873),\n",
    "        (46, 171),\n",
    "        (0, 1234),\n",
    "        (124258972654, 32894879236587123)\n",
    "    ]\n",
    "    for x, y in test_cases:\n",
    "        karatsuba_mult_res = karatsuba_mult(str(x), str(y))\n",
    "        assert x * y == int(karatsuba_mult_res), f'error with {x} * {y} != {karatsuba_mult_res}'\n",
    "\n",
    "test()"
   ]
  },
  {
   "cell_type": "code",
   "execution_count": 44,
   "id": "2ef3e432",
   "metadata": {},
   "outputs": [
    {
     "data": {
      "text/plain": [
       "'8539734222673567065463550869546574495034888535765114961879601127067743044893204848617875072216249073013374895871952806582723184'"
      ]
     },
     "execution_count": 44,
     "metadata": {},
     "output_type": "execute_result"
    }
   ],
   "source": [
    "karatsuba_mult(a_, b_)"
   ]
  },
  {
   "cell_type": "code",
   "execution_count": 46,
   "id": "95ecca58",
   "metadata": {},
   "outputs": [
    {
     "data": {
      "text/plain": [
       "442"
      ]
     },
     "execution_count": 46,
     "metadata": {},
     "output_type": "execute_result"
    }
   ],
   "source": [
    "13*34"
   ]
  },
  {
   "cell_type": "code",
   "execution_count": null,
   "id": "696e5447",
   "metadata": {},
   "outputs": [],
   "source": []
  }
 ],
 "metadata": {
  "kernelspec": {
   "display_name": "Python 3 (ipykernel)",
   "language": "python",
   "name": "python3"
  },
  "language_info": {
   "codemirror_mode": {
    "name": "ipython",
    "version": 3
   },
   "file_extension": ".py",
   "mimetype": "text/x-python",
   "name": "python",
   "nbconvert_exporter": "python",
   "pygments_lexer": "ipython3",
   "version": "3.11.1"
  }
 },
 "nbformat": 4,
 "nbformat_minor": 5
}
