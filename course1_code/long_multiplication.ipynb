{
 "cells": [
  {
   "cell_type": "markdown",
   "id": "8d3d368c",
   "metadata": {},
   "source": [
    "## Karatsuba Multiplication"
   ]
  },
  {
   "cell_type": "markdown",
   "id": "79e993e5",
   "metadata": {},
   "source": [
    "<img src=\"img/karatsuba_mult_description.png\" alt=\"Drawing\" style=\"width: 400px;\" align=\"left\"/>"
   ]
  },
  {
   "cell_type": "code",
   "execution_count": 2,
   "id": "b3801203",
   "metadata": {},
   "outputs": [],
   "source": [
    "def dig_mult(a: str, b: str) -> str:\n",
    "    return str(int(a) * int(b))\n",
    "\n",
    "def str_sum(a: str, b: str) -> str:\n",
    "    return str(int(a) + int(b))\n",
    "\n",
    "def add_zeros(a: str, n: int) -> str:\n",
    "    return a + '0' * n"
   ]
  },
  {
   "cell_type": "code",
   "execution_count": 3,
   "id": "935d7d3d",
   "metadata": {},
   "outputs": [],
   "source": [
    "from typing import Union\n",
    "\n",
    "def karatsuba_mult_str(x: str, y: str) -> int:\n",
    "    if len(x) == 1 or len(y) == 1:\n",
    "        return dig_mult(x, y)\n",
    "    mid = len(str(x)) // 2\n",
    "    a, b, c, d = x[:-mid], x[-mid:], y[:-mid], y[-mid:]\n",
    "    ac = karatsuba_mult_str(a, c)\n",
    "    bd = karatsuba_mult_str(b, d)\n",
    "    aPb_cPd = karatsuba_mult_str(str_sum(a, b), str_sum(c, d))\n",
    "    a_dPb_c = str(int(aPb_cPd) - int(ac) - int(bd))\n",
    "    final_res = str(int(ac + '0' * (2 * mid)) + int(a_dPb_c + '0' * (mid)) + int(bd))\n",
    "    return final_res\n",
    "\n",
    "def karatsuba_mult_int(x: int, y: int) -> int:\n",
    "    x, y = str(x), str(y)\n",
    "    return int(karatsuba_mult_str(x, y))"
   ]
  },
  {
   "cell_type": "markdown",
   "id": "1060f629",
   "metadata": {},
   "source": [
    "### tests"
   ]
  },
  {
   "cell_type": "code",
   "execution_count": 4,
   "id": "246f444a",
   "metadata": {
    "scrolled": true
   },
   "outputs": [
    {
     "name": "stdout",
     "output_type": "stream",
     "text": [
      "Test 0 passed\n",
      "Test 1 passed\n",
      "Test 2 passed\n",
      "Test 3 passed\n",
      "Test 4 passed\n",
      "Test 5 passed\n"
     ]
    }
   ],
   "source": [
    "from helpers_functions import test_function\n",
    "\n",
    "test_cases = [\n",
    "    ((12, 34), 12 * 34),\n",
    "    ((1, 2), 2),\n",
    "    ((1234, 9873), 1234 * 9873),\n",
    "    ((46, 171), 46 * 171),\n",
    "    ((0, 1234), 0),\n",
    "    ((124258972654, 32894879236587123), 124258972654 * 32894879236587123)\n",
    "]\n",
    "\n",
    "test_function(karatsuba_mult_int, test_cases, True)"
   ]
  },
  {
   "cell_type": "markdown",
   "id": "ab8db56d",
   "metadata": {},
   "source": [
    "### compare inference with default python multiplication "
   ]
  },
  {
   "cell_type": "code",
   "execution_count": 6,
   "id": "e41675db",
   "metadata": {},
   "outputs": [],
   "source": [
    "num1, num2 = 3141592653589793238462643383279502884197169399375105820974944592, 2718281828459045235360287471352662497757247093699959574966967627"
   ]
  },
  {
   "cell_type": "code",
   "execution_count": 17,
   "id": "2ef3e432",
   "metadata": {},
   "outputs": [
    {
     "name": "stdout",
     "output_type": "stream",
     "text": [
      "2.09 ms ± 81.9 µs per loop (mean ± std. dev. of 7 runs, 100 loops each)\n"
     ]
    }
   ],
   "source": [
    "%%timeit\n",
    "karatsuba_mult_int(num1, num2)"
   ]
  },
  {
   "cell_type": "code",
   "execution_count": 19,
   "id": "95ecca58",
   "metadata": {
    "scrolled": true
   },
   "outputs": [
    {
     "name": "stdout",
     "output_type": "stream",
     "text": [
      "172 ns ± 1.56 ns per loop (mean ± std. dev. of 7 runs, 10,000,000 loops each)\n"
     ]
    }
   ],
   "source": [
    "%%timeit\n",
    "3141592653589793238462643383279502884197169399375105820974944592 * 2718281828459045235360287471352662497757247093699959574966967627"
   ]
  },
  {
   "cell_type": "markdown",
   "id": "229dff08",
   "metadata": {},
   "source": [
    "very bad)"
   ]
  },
  {
   "cell_type": "markdown",
   "id": "ac9164ac",
   "metadata": {},
   "source": [
    "### test time complexity"
   ]
  },
  {
   "cell_type": "markdown",
   "id": "164afea1",
   "metadata": {},
   "source": [
    "According to the Master Method, we should get time complexity $O(n^{log_3^2})$, because we have next reccurent equation: $T(n)=3T(n/2)+O(n)$ and $3 > 2^1$"
   ]
  },
  {
   "cell_type": "markdown",
   "id": "ab68e349",
   "metadata": {},
   "source": [
    "<img src=\"img/master_method.png\" alt=\"Drawing\" style=\"width: 400px;\" align=\"left\"/>"
   ]
  },
  {
   "cell_type": "markdown",
   "id": "1f32dc67",
   "metadata": {},
   "source": [
    "$\\frac{C * (2n)^{log_2^3}}{C * n^{log_2^3}}=2^{log_2^3}=3 \\Rightarrow$ if the algorithm is correct we will see mean time growth $\\thickapprox 3$ when we will double number of digits"
   ]
  },
  {
   "cell_type": "code",
   "execution_count": 77,
   "id": "9fc25f10",
   "metadata": {},
   "outputs": [],
   "source": [
    "import random\n",
    "time_test_cases = []\n",
    "for i in range(11):\n",
    "    a = random.randint(10 ** (2 ** i), 10 ** (2 ** i + 1) - 1)\n",
    "    b = random.randint(10 ** (2 ** i), 10 ** (2 ** i + 1) - 1)\n",
    "    time_test_cases.append((a, b))"
   ]
  },
  {
   "cell_type": "code",
   "execution_count": 78,
   "id": "857a002d",
   "metadata": {},
   "outputs": [],
   "source": [
    "loop = 10\n",
    "time_results = []\n",
    "for items in time_test_cases:\n",
    "    result = timeit.timeit('karatsuba_mult_int(*items)', globals=globals(), number=loop)\n",
    "    time_results.append(result / loop)"
   ]
  },
  {
   "cell_type": "code",
   "execution_count": 82,
   "id": "98d4913d",
   "metadata": {},
   "outputs": [
    {
     "data": {
      "text/plain": [
       "[<matplotlib.lines.Line2D at 0x12106d450>]"
      ]
     },
     "execution_count": 82,
     "metadata": {},
     "output_type": "execute_result"
    },
    {
     "data": {
      "image/png": "[encoded data removed]",
      "text/plain": [
       "<Figure size 640x480 with 1 Axes>"
      ]
     },
     "metadata": {},
     "output_type": "display_data"
    }
   ],
   "source": [
    "import numpy as np\n",
    "plt.plot(np.array(time_results[1:] / np.array(time_results[:-1])))"
   ]
  },
  {
   "cell_type": "markdown",
   "id": "f18b57a8",
   "metadata": {},
   "source": [
    "seems like not so far from truth, but no so good"
   ]
  }
 ],
 "metadata": {
  "kernelspec": {
   "display_name": "Python 3 (ipykernel)",
   "language": "python",
   "name": "python3"
  },
  "language_info": {
   "codemirror_mode": {
    "name": "ipython",
    "version": 3
   },
   "file_extension": ".py",
   "mimetype": "text/x-python",
   "name": "python",
   "nbconvert_exporter": "python",
   "pygments_lexer": "ipython3",
   "version": "3.11.1"
  }
 },
 "nbformat": 4,
 "nbformat_minor": 5
}
