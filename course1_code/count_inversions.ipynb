{
 "cells": [
  {
   "cell_type": "markdown",
   "id": "ef1aa995",
   "metadata": {},
   "source": [
    "## Count inversions"
   ]
  },
  {
   "cell_type": "markdown",
   "id": "7d7faa64",
   "metadata": {},
   "source": [
    "this is merge_sort with additional $O(N)$ work during merge step"
   ]
  },
  {
   "cell_type": "code",
   "execution_count": 16,
   "id": "87b25842",
   "metadata": {},
   "outputs": [],
   "source": [
    "from typing import Tuple\n",
    "\n",
    "def _count_inversions(arr: list) -> Tuple[list, int]:\n",
    "    if len(arr) <= 1:\n",
    "        return arr, 0\n",
    "    left_arr, left_inv = _count_inversions(arr[:len(arr) // 2])\n",
    "    right_arr, right_inv = _count_inversions(arr[len(arr) // 2:])\n",
    "    out_arr = []\n",
    "    merge_inv = l = r = 0\n",
    "    for i in range(len(arr)):\n",
    "        if r >= len(right_arr) or (l < len(left_arr) and left_arr[l] < right_arr[r]):\n",
    "            out_arr.append(left_arr[l])\n",
    "            l += 1\n",
    "        else:\n",
    "            out_arr.append(right_arr[r])\n",
    "            r += 1\n",
    "            merge_inv += len(left_arr) - l\n",
    "    return out_arr, merge_inv + left_inv + right_inv\n",
    "\n",
    "def count_inversions(arr: list) -> int:\n",
    "    return _count_inversions(arr)[1]"
   ]
  },
  {
   "cell_type": "markdown",
   "id": "f6bf0a43",
   "metadata": {},
   "source": [
    "### test"
   ]
  },
  {
   "cell_type": "code",
   "execution_count": 17,
   "id": "62842b64",
   "metadata": {},
   "outputs": [],
   "source": [
    "from helpers_functions import test_function\n",
    "\n",
    "test_cases = [\n",
    "    ([[]], 0),\n",
    "    ([[1]], 0),\n",
    "    ([[1, 2]], 0),\n",
    "    ([[1, 2, 3, 4, 5]], 0),\n",
    "    ([[2, 1, 3, 4, 5]], 1),\n",
    "    ([[1, 5, 2, 3, 4]], 3),\n",
    "    ([[5, 4, 3, 2, 1]], 10),\n",
    "]"
   ]
  },
  {
   "cell_type": "code",
   "execution_count": 18,
   "id": "6785e7dc",
   "metadata": {},
   "outputs": [
    {
     "name": "stdout",
     "output_type": "stream",
     "text": [
      "Test 0 passed\n",
      "Test 1 passed\n",
      "Test 2 passed\n",
      "Test 3 passed\n",
      "Test 4 passed\n",
      "Test 5 passed\n",
      "Test 6 passed\n"
     ]
    }
   ],
   "source": [
    "test_function(count_inversions, test_cases)"
   ]
  }
 ],
 "metadata": {
  "kernelspec": {
   "display_name": "Python 3 (ipykernel)",
   "language": "python",
   "name": "python3"
  },
  "language_info": {
   "codemirror_mode": {
    "name": "ipython",
    "version": 3
   },
   "file_extension": ".py",
   "mimetype": "text/x-python",
   "name": "python",
   "nbconvert_exporter": "python",
   "pygments_lexer": "ipython3",
   "version": "3.11.1"
  }
 },
 "nbformat": 4,
 "nbformat_minor": 5
}
