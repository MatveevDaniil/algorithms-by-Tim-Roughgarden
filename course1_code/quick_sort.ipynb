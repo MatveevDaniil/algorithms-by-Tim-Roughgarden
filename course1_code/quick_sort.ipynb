{
 "cells": [
  {
   "cell_type": "code",
   "execution_count": 1,
   "id": "06dc365f",
   "metadata": {},
   "outputs": [],
   "source": [
    "import random"
   ]
  },
  {
   "cell_type": "markdown",
   "id": "e71fb552",
   "metadata": {},
   "source": [
    "## Implementation of quck sort according to pseudocode from the lectures:"
   ]
  },
  {
   "cell_type": "markdown",
   "id": "5debe727",
   "metadata": {},
   "source": [
    "<img src=\"img/quicksort_partition_pseudocode.png\" alt=\"Drawing\" style=\"width: 600px;\" align=\"left\"/>"
   ]
  },
  {
   "cell_type": "code",
   "execution_count": 2,
   "id": "db4a25f5",
   "metadata": {},
   "outputs": [],
   "source": [
    "def swap(arr: list, i: int, j: int):\n",
    "    t = arr[i]\n",
    "    arr[i] = arr[j]\n",
    "    arr[j] = t\n",
    "    \n",
    "def _quick_sort(arr: list, l: int, r: int):\n",
    "    if r - l <= 0:\n",
    "        return\n",
    "    pivot = random.randint(l, r)\n",
    "    swap(arr, l, pivot)\n",
    "    pivot = l\n",
    "    mid = l + 1\n",
    "    for j in range(l + 1, r + 1):\n",
    "        if arr[j] < arr[pivot]:\n",
    "            swap(arr, mid, j)\n",
    "            mid += 1\n",
    "    swap(arr, mid - 1, pivot)\n",
    "    pivot = mid - 1\n",
    "    _quick_sort(arr, l, pivot - 1)\n",
    "    _quick_sort(arr, pivot + 1, r)\n",
    "    \n",
    "def quick_sort(arr: list) -> list:\n",
    "    _quick_sort(arr.copy(), 0, len(arr) - 1)\n",
    "    return arr"
   ]
  },
  {
   "cell_type": "code",
   "execution_count": 3,
   "id": "5369567e",
   "metadata": {
    "scrolled": true
   },
   "outputs": [
    {
     "name": "stdout",
     "output_type": "stream",
     "text": [
      "Test 0 passed\n",
      "Test 1 passed\n",
      "Test 2 failed\n",
      "Test 3 failed\n",
      "Test 4 failed\n",
      "Test 5 failed\n"
     ]
    }
   ],
   "source": [
    "from helpers_functions import test_function\n",
    "\n",
    "test_cases = [\n",
    "    ([[0]], [0]),\n",
    "    ([[0, 1]], [0, 1]),\n",
    "    ([[1, 0]], [0, 1]),\n",
    "]\n",
    "for i in range(7, 10):\n",
    "    for j in range(1):\n",
    "        arr = list(range(i))\n",
    "        random.shuffle(arr)\n",
    "        test_cases.append(([arr], list(sorted(arr))))\n",
    "test_function(quick_sort, test_cases)"
   ]
  },
  {
   "cell_type": "markdown",
   "id": "53c252be",
   "metadata": {},
   "source": [
    "## Counting the inversion number in first way"
   ]
  },
  {
   "cell_type": "markdown",
   "id": "044a7c0f",
   "metadata": {},
   "source": [
    "let's create general function, which takes a pivot chosing function as an argument:"
   ]
  },
  {
   "cell_type": "code",
   "execution_count": 7,
   "id": "dd265449",
   "metadata": {},
   "outputs": [
    {
     "name": "stdout",
     "output_type": "stream",
     "text": [
      "159382\n"
     ]
    }
   ],
   "source": [
    "def left_pivot(arr: list, l: int, r: int) -> int:\n",
    "    return l\n",
    "\n",
    "def right_pivot(arr: list, l: int, r: int) -> int:\n",
    "    return r\n",
    "\n",
    "def med3_pivot(arr: list, l: int, r: int) -> int:\n",
    "    mid = (r + l) // 2\n",
    "    if arr[l] < arr[mid] < arr[r] or arr[r] < arr[mid] < arr[l]:\n",
    "        return mid\n",
    "    if arr[mid] < arr[l] < arr[r] or arr[r] < arr[l] < arr[mid]:\n",
    "        return l\n",
    "    return r\n",
    "\n",
    "def random_pivot(arr: list, l: int, r: int) -> int:\n",
    "    return random.randint(l, r)\n",
    "\n",
    "def _quick_sort_compare_count(arr: list, l: int, r: int, pivot_choose_func: callable) -> int:\n",
    "    if r - l <= 0:\n",
    "        return 0 \n",
    "    pivot = pivot_choose_func(arr, l, r)\n",
    "    swap(arr, l, pivot)\n",
    "    pivot = l\n",
    "    mid = l + 1\n",
    "    for j in range(l + 1, r + 1):\n",
    "        if arr[j] < arr[pivot]:\n",
    "            swap(arr, mid, j)\n",
    "            mid += 1\n",
    "    swap(arr, mid - 1, pivot)\n",
    "    pivot = mid - 1\n",
    "    left_compare = _quick_sort_compare_count(arr, l, pivot - 1, pivot_choose_func)\n",
    "    right_compare = _quick_sort_compare_count(arr, pivot + 1, r, pivot_choose_func)\n",
    "    return left_compare + right_compare + r - l\n",
    "\n",
    "def quick_sort_compare_count(arr, pivot_choose_func: callable) -> int:\n",
    "    return _quick_sort_compare_count(arr.copy(), 0, len(arr) - 1, pivot_choose_func)\n",
    "\n",
    "with open('QuickSort.txt') as f:\n",
    "    quick_sort_test_arr = list(map(int, f.read().split('\\n')[:-1]))\n",
    "# print(quick_sort_compare_count(quick_sort_test_arr, left_pivot))\n",
    "# print(quick_sort_compare_count(quick_sort_test_arr, right_pivot))\n",
    "# print(quick_sort_compare_count(quick_sort_test_arr, med3_pivot))\n",
    "print(quick_sort_compare_count(quick_sort_test_arr, random_pivot))"
   ]
  },
  {
   "cell_type": "markdown",
   "id": "9d49c0f7",
   "metadata": {},
   "source": [
    "how we see, for this particular case random pivot worked worse than median pivot"
   ]
  },
  {
   "cell_type": "code",
   "execution_count": 5,
   "id": "8db61246",
   "metadata": {},
   "outputs": [
    {
     "data": {
      "text/plain": [
       "156012.62"
      ]
     },
     "execution_count": 5,
     "metadata": {},
     "output_type": "execute_result"
    }
   ],
   "source": [
    "N = 100\n",
    "results = []\n",
    "import numpy as np\n",
    "for i in range(N):\n",
    "    results.append(quick_sort_compare_count(quick_sort_test_arr, random_pivot))\n",
    "np.mean(results)"
   ]
  },
  {
   "cell_type": "markdown",
   "id": "ea29a91f",
   "metadata": {},
   "source": [
    "and in average it works worse as well"
   ]
  }
 ],
 "metadata": {
  "kernelspec": {
   "display_name": "Python 3 (ipykernel)",
   "language": "python",
   "name": "python3"
  },
  "language_info": {
   "codemirror_mode": {
    "name": "ipython",
    "version": 3
   },
   "file_extension": ".py",
   "mimetype": "text/x-python",
   "name": "python",
   "nbconvert_exporter": "python",
   "pygments_lexer": "ipython3",
   "version": "3.11.1"
  }
 },
 "nbformat": 4,
 "nbformat_minor": 5
}
