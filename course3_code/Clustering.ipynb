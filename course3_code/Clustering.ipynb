{
 "cells": [
  {
   "cell_type": "markdown",
   "id": "90819bb9",
   "metadata": {},
   "source": [
    "# Problem 1"
   ]
  },
  {
   "cell_type": "code",
   "execution_count": 46,
   "id": "3375c9f5",
   "metadata": {},
   "outputs": [
    {
     "data": {
      "text/plain": [
       "106"
      ]
     },
     "execution_count": 46,
     "metadata": {},
     "output_type": "execute_result"
    }
   ],
   "source": [
    "import re\n",
    "\n",
    "class Graph:\n",
    "    def __init__(self):\n",
    "        self.E = {}\n",
    "        self.nodes_num = 0\n",
    "    \n",
    "    def readfile(self, file_name: str):\n",
    "        with open(file_name) as f:\n",
    "            self.nodes_num = int(f.readline()[:-1])\n",
    "            while line := f.readline():\n",
    "                if line == '\\n':\n",
    "                    continue\n",
    "                n1, n2, cost = [int(item) for item in re.split('[ \\n]', line) if item != '']\n",
    "                self.E[(n1, n2)] = cost\n",
    "    \n",
    "    def clustering(self, k: int) -> int:\n",
    "        leader = list(range(self.nodes_num + 1))\n",
    "        clusters = {i: [i] for i in range(1, self.nodes_num + 1)}\n",
    "        self.E = dict(sorted(self.E.items(), key=lambda i: i[1]))\n",
    "        for edge in self.E:\n",
    "            n1, n2 = edge\n",
    "            if leader[n1] == leader[n2]:\n",
    "                continue\n",
    "            if len(clusters) == k:\n",
    "                break\n",
    "            l1, l2 = leader[n1], leader[n2]\n",
    "            if len(clusters[l1]) > len(clusters[l2]):\n",
    "                for node in clusters[l2]:\n",
    "                    leader[node] = l1\n",
    "                clusters[l1].extend(clusters.pop(l2))\n",
    "            else:\n",
    "                for node in clusters[l1]:\n",
    "                    leader[node] = l2\n",
    "                clusters[l2].extend(clusters.pop(l1))\n",
    "        return self.E[edge]\n",
    "\n",
    "g = Graph()\n",
    "g.readfile('./clustering1.txt')\n",
    "g.clustering(4)"
   ]
  },
  {
   "cell_type": "markdown",
   "id": "f95e995b",
   "metadata": {},
   "source": [
    "# Problem 2"
   ]
  },
  {
   "cell_type": "code",
   "execution_count": 104,
   "id": "7eade951",
   "metadata": {},
   "outputs": [],
   "source": [
    "nodes = []\n",
    "with open('./clustering_big.txt') as f:\n",
    "    nodes_num, n_bits = [int(i) for i in f.readline()[:-1].split(' ')]\n",
    "    while line := f.readline():\n",
    "        line = ''.join(re.split('[ \\n]', line))\n",
    "        if line == '':\n",
    "            continue\n",
    "        nodes.append(int(line, 2))\n",
    "\n",
    "num2idx = {}\n",
    "for idx, num in enumerate(nodes):\n",
    "    if num not in num2idx:\n",
    "        num2idx[num] = set()\n",
    "    num2idx[num].add(idx)"
   ]
  },
  {
   "cell_type": "code",
   "execution_count": 105,
   "id": "03a367e7",
   "metadata": {},
   "outputs": [],
   "source": [
    "d0_mask = [0]\n",
    "d1_mask = [1 << i for i in range(n_bits)]\n",
    "d2_mask = [(1 << i) + (1 << j) for i in range(n_bits) for j in range(i + 1, n_bits)]\n",
    "masks = d0_mask + d1_mask + d2_mask\n",
    "from networkx.utils import UnionFind\n",
    "union = UnionFind([i for i in range(len(nodes))])\n",
    "for mask in masks:\n",
    "    for num in num2idx:\n",
    "        new_num = num ^ mask\n",
    "        if new_num in num2idx:\n",
    "            idx0 = num2idx[num].pop()\n",
    "            for idx in num2idx[num].union(num2idx[new_num]):\n",
    "                union.union(idx, idx0)\n",
    "            num2idx[num].add(idx0)"
   ]
  },
  {
   "cell_type": "code",
   "execution_count": 106,
   "id": "d3aa109d",
   "metadata": {
    "scrolled": true
   },
   "outputs": [
    {
     "name": "stdout",
     "output_type": "stream",
     "text": [
      "6118\n"
     ]
    }
   ],
   "source": [
    "fset=set()\n",
    "for num in range(len(nodes)):\n",
    "    fset.add(union[num])\n",
    "print(len(fset))"
   ]
  }
 ],
 "metadata": {
  "kernelspec": {
   "display_name": "Python 3 (ipykernel)",
   "language": "python",
   "name": "python3"
  },
  "language_info": {
   "codemirror_mode": {
    "name": "ipython",
    "version": 3
   },
   "file_extension": ".py",
   "mimetype": "text/x-python",
   "name": "python",
   "nbconvert_exporter": "python",
   "pygments_lexer": "ipython3",
   "version": "3.11.1"
  }
 },
 "nbformat": 4,
 "nbformat_minor": 5
}
