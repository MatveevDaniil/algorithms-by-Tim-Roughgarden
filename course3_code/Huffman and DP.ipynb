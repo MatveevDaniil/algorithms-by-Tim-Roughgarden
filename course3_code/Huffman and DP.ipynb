{
 "cells": [
  {
   "cell_type": "markdown",
   "id": "70ce6136",
   "metadata": {},
   "source": [
    "# Haffman Encoding"
   ]
  },
  {
   "cell_type": "code",
   "execution_count": 66,
   "id": "61055e08",
   "metadata": {},
   "outputs": [],
   "source": [
    "from typing import Optional\n",
    "from heapq import heapify, heappop, heappush\n",
    "from collections import deque\n",
    "\n",
    "\n",
    "class HaffmanEncoding:\n",
    "    \n",
    "    def __init__(self, fname: Optional[str] = None):\n",
    "        if fname:\n",
    "            self.read_file(fname)\n",
    "            self.build_encoding()\n",
    "    \n",
    "    def read_file(self, fname: Optional[str] = None):\n",
    "        with open(fname) as f:\n",
    "            self.n = int(f.readline().split('\\n')[0])\n",
    "            w = []\n",
    "            while line := f.readline():\n",
    "                if line in ['\\n', ' \\n']:\n",
    "                    continue\n",
    "                w.append(int(line.split('\\n')[0]))\n",
    "            _w = dict(enumerate(w))\n",
    "            self.w = {str(k): _w[k] for k in list(sorted(list(_w), key=lambda i: _w[i]))}\n",
    "            self.heap = [(v, k) for k, v in self.w.items()]\n",
    "            heapify(self.heap)\n",
    "            \n",
    "    def build_encoding(self):\n",
    "        self.encoding = {str(i): deque() for i in range(self.n)}\n",
    "        while len(self.heap) > 1:\n",
    "            (w1, key1), (w2, key2) = heappop(self.heap), heappop(self.heap)\n",
    "            for letter in key1.split('|'):\n",
    "                self.encoding[letter].appendleft('0')\n",
    "            for letter in key2.split('|'):\n",
    "                self.encoding[letter].appendleft('1') \n",
    "            heappush(self.heap, (w1 + w2, '|'.join([key1, key2])))\n",
    "        for key in self.encoding:\n",
    "            self.encoding[key] = ''.join(self.encoding[key])"
   ]
  },
  {
   "cell_type": "code",
   "execution_count": 67,
   "id": "588fe395",
   "metadata": {},
   "outputs": [],
   "source": [
    "encoding = HaffmanEncoding('huffman.txt')"
   ]
  },
  {
   "cell_type": "code",
   "execution_count": 70,
   "id": "f252052a",
   "metadata": {},
   "outputs": [
    {
     "data": {
      "text/plain": [
       "(19, 9)"
      ]
     },
     "execution_count": 70,
     "metadata": {},
     "output_type": "execute_result"
    }
   ],
   "source": [
    "max([len(i) for i in encoding.encoding.values()]), min([len(i) for i in encoding.encoding.values()])"
   ]
  },
  {
   "cell_type": "markdown",
   "id": "5ec6666b",
   "metadata": {},
   "source": [
    "# maximum-weight independent set of a path graph"
   ]
  },
  {
   "cell_type": "code",
   "execution_count": 72,
   "id": "b8e1e80a",
   "metadata": {},
   "outputs": [],
   "source": [
    "with open('mwis.txt') as f:\n",
    "    n = int(f.readline().split('\\n')[0])\n",
    "    w = []\n",
    "    while line := f.readline():\n",
    "        if line in ['\\n', ' \\n']:\n",
    "            continue\n",
    "        w.append(int(line.split('\\n')[0]))"
   ]
  },
  {
   "cell_type": "code",
   "execution_count": 73,
   "id": "f5dcebd9",
   "metadata": {},
   "outputs": [],
   "source": [
    "dp = [0] * n\n",
    "dp[0], dp[1] = w[0], max(w[:2])\n",
    "dp_vert_1, dp_vert_2 = [1], [2 if w[1] > w[0] else 1]\n",
    "for i in range(2, len(dp)):\n",
    "    if dp[i - 1] > dp[i - 2] + w[i]:\n",
    "        new_dp_vert = dp_vert_2\n",
    "        dp[i] = dp[i - 1]\n",
    "    else:\n",
    "        new_dp_vert = dp_vert_1 + [i + 1]\n",
    "        dp[i] = dp[i - 2] + w[i]\n",
    "    dp_vert_1, dp_vert_2 = dp_vert_2, new_dp_vert\n",
    "    dp[i] = max(dp[i - 2] + w[i], dp[i - 1])"
   ]
  },
  {
   "cell_type": "code",
   "execution_count": 75,
   "id": "abe37823",
   "metadata": {},
   "outputs": [
    {
     "data": {
      "text/plain": [
       "[1, 3, 117, 517]"
      ]
     },
     "execution_count": 75,
     "metadata": {},
     "output_type": "execute_result"
    }
   ],
   "source": [
    "list(filter(lambda i: i in (1, 2, 3, 4, 17, 117, 517, 997), dp_vert_2))"
   ]
  },
  {
   "cell_type": "code",
   "execution_count": null,
   "id": "8c74f5f0",
   "metadata": {},
   "outputs": [],
   "source": [
    "10100110"
   ]
  }
 ],
 "metadata": {
  "kernelspec": {
   "display_name": "Python 3 (ipykernel)",
   "language": "python",
   "name": "python3"
  },
  "language_info": {
   "codemirror_mode": {
    "name": "ipython",
    "version": 3
   },
   "file_extension": ".py",
   "mimetype": "text/x-python",
   "name": "python",
   "nbconvert_exporter": "python",
   "pygments_lexer": "ipython3",
   "version": "3.11.1"
  }
 },
 "nbformat": 4,
 "nbformat_minor": 5
}
