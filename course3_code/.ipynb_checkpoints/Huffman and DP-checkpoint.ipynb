{
 "cells": [
  {
   "cell_type": "code",
   "execution_count": 66,
   "id": "229eb7fe",
   "metadata": {},
   "outputs": [],
   "source": [
    "from typing import Optional\n",
    "from heapq import heapify, heappop, heappush\n",
    "from collections import deque\n",
    "\n",
    "\n",
    "class HaffmanEncoding:\n",
    "    \n",
    "    def __init__(self, fname: Optional[str] = None):\n",
    "        if fname:\n",
    "            self.read_file(fname)\n",
    "            self.build_encoding()\n",
    "    \n",
    "    def read_file(self, fname: Optional[str] = None):\n",
    "        with open(fname) as f:\n",
    "            self.n = int(f.readline().split('\\n')[0])\n",
    "            w = []\n",
    "            while line := f.readline():\n",
    "                if line in ['\\n', ' \\n']:\n",
    "                    continue\n",
    "                w.append(int(line.split('\\n')[0]))\n",
    "            _w = dict(enumerate(w))\n",
    "            self.w = {str(k): _w[k] for k in list(sorted(list(_w), key=lambda i: _w[i]))}\n",
    "            self.heap = [(v, k) for k, v in self.w.items()]\n",
    "            heapify(self.heap)\n",
    "            \n",
    "    def build_encoding(self):\n",
    "        self.encoding = {str(i): deque() for i in range(self.n)}\n",
    "        while len(self.heap) > 1:\n",
    "            (w1, key1), (w2, key2) = heappop(self.heap), heappop(self.heap)\n",
    "            for letter in key1.split('|'):\n",
    "                self.encoding[letter].appendleft('0')\n",
    "            for letter in key2.split('|'):\n",
    "                self.encoding[letter].appendleft('1') \n",
    "            heappush(self.heap, (w1 + w2, '|'.join([key1, key2])))\n",
    "        for key in self.encoding:\n",
    "            self.encoding[key] = ''.join(self.encoding[key])"
   ]
  },
  {
   "cell_type": "code",
   "execution_count": 67,
   "id": "2e99be77",
   "metadata": {},
   "outputs": [],
   "source": [
    "encoding = HaffmanEncoding('huffman.txt')"
   ]
  },
  {
   "cell_type": "code",
   "execution_count": 68,
   "id": "91412fa0",
   "metadata": {},
   "outputs": [
    {
     "data": {
      "text/plain": [
       "19"
      ]
     },
     "execution_count": 68,
     "metadata": {},
     "output_type": "execute_result"
    }
   ],
   "source": [
    "max([len(i) for i in encoding.encoding.values()])"
   ]
  },
  {
   "cell_type": "code",
   "execution_count": 69,
   "id": "a52f9526",
   "metadata": {},
   "outputs": [
    {
     "data": {
      "text/plain": [
       "9"
      ]
     },
     "execution_count": 69,
     "metadata": {},
     "output_type": "execute_result"
    }
   ],
   "source": [
    "min([len(i) for i in encoding.encoding.values()])"
   ]
  },
  {
   "cell_type": "code",
   "execution_count": null,
   "id": "0771a5af",
   "metadata": {},
   "outputs": [],
   "source": []
  }
 ],
 "metadata": {
  "kernelspec": {
   "display_name": "Python 3 (ipykernel)",
   "language": "python",
   "name": "python3"
  },
  "language_info": {
   "codemirror_mode": {
    "name": "ipython",
    "version": 3
   },
   "file_extension": ".py",
   "mimetype": "text/x-python",
   "name": "python",
   "nbconvert_exporter": "python",
   "pygments_lexer": "ipython3",
   "version": "3.11.1"
  }
 },
 "nbformat": 4,
 "nbformat_minor": 5
}
