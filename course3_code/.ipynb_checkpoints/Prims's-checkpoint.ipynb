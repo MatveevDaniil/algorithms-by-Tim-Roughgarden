{
 "cells": [
  {
   "cell_type": "markdown",
   "id": "7deb3bf2",
   "metadata": {},
   "source": [
    "## Task 1"
   ]
  },
  {
   "cell_type": "code",
   "execution_count": 1,
   "id": "63c5f407",
   "metadata": {},
   "outputs": [
    {
     "name": "stdout",
     "output_type": "stream",
     "text": [
      "[1, 4, 7, 9, 11, 12, 14, 16, 18, 22]\n"
     ]
    },
    {
     "data": {
      "text/plain": [
       "69119377652"
      ]
     },
     "execution_count": 1,
     "metadata": {},
     "output_type": "execute_result"
    }
   ],
   "source": [
    "def convert_line_algo_1(string: str) -> tuple:\n",
    "    weight, length = list(map(int, string[:-1].split(' ')))\n",
    "    return (weight - length, weight, length)\n",
    "\n",
    "with open('jobs.txt') as f:\n",
    "    weight_list_algo_1 = list(sorted([convert_line_algo_1(item) for item in f.readlines()[1:]], reverse=True))\n",
    "    \n",
    "def calc_sum(weight_list: list) -> int:\n",
    "    W = [item[1] for item in weight_list]\n",
    "    C = [weight_list[0][2]]\n",
    "    for item in weight_list[1:]:\n",
    "        C.append(item[2] + C[-1])\n",
    "    print(C[:10])\n",
    "    return sum([W[i] * C[i] for i in range(len(C))])\n",
    "\n",
    "calc_sum(weight_list_algo_1)"
   ]
  },
  {
   "cell_type": "markdown",
   "id": "06b03711",
   "metadata": {},
   "source": [
    "## Task 2"
   ]
  },
  {
   "cell_type": "code",
   "execution_count": 2,
   "id": "b57800ac",
   "metadata": {
    "scrolled": false
   },
   "outputs": [
    {
     "name": "stdout",
     "output_type": "stream",
     "text": [
      "[1, 2, 3, 4, 5, 6, 7, 8, 9, 10]\n"
     ]
    },
    {
     "data": {
      "text/plain": [
       "67311454237"
      ]
     },
     "execution_count": 2,
     "metadata": {},
     "output_type": "execute_result"
    }
   ],
   "source": [
    "def convert_line_algo_2(string: str) -> tuple:\n",
    "    weight, length = list(map(int, string[:-1].split(' ')))\n",
    "    return (weight/length, weight, length)\n",
    "\n",
    "with open('jobs.txt') as f:\n",
    "    weight_list_algo_2 = list(sorted([convert_line_algo_2(item) for item in f.readlines()[1:]], reverse=True))\n",
    "    \n",
    "calc_sum(weight_list_algo_2)"
   ]
  },
  {
   "cell_type": "markdown",
   "id": "8bbaf53a",
   "metadata": {},
   "source": [
    "# Prim's Algorithm"
   ]
  },
  {
   "cell_type": "markdown",
   "id": "f54f8fec",
   "metadata": {},
   "source": [
    "## Min Heap With Mapping"
   ]
  },
  {
   "cell_type": "markdown",
   "id": "82be0d5d",
   "metadata": {},
   "source": [
    "1. all elemends added to heap are tuples (key, node)\n",
    "2. all nodes have to be unique\n",
    "3. heap remember position of each node"
   ]
  },
  {
   "cell_type": "code",
   "execution_count": 3,
   "id": "4255f9fc",
   "metadata": {},
   "outputs": [],
   "source": [
    "from typing import Tuple, Optional\n",
    "\n",
    "class MinHeapMap:\n",
    "    def __init__(self):\n",
    "        self.h = [] \n",
    "        self.map = {}\n",
    "        \n",
    "    def insert(self, item: Tuple[int]):\n",
    "        self.h.append(item)\n",
    "        key, node = item # get node\n",
    "        self.map[node] = len(self) - 1 # remember node position\n",
    "        self.bubble_up(len(self) - 1)\n",
    "        \n",
    "    def bubble_up(self, idx: int):\n",
    "        parent = self.parent(idx)\n",
    "        while parent is not None:\n",
    "            if self.h[idx] < self.h[parent]:\n",
    "                idx_node, parent_node = self.h[idx][1], self.h[parent][1] # get nodes\n",
    "                self.map[idx_node], self.map[parent_node] = parent, idx # swap nodes positions\n",
    "                self.h[idx], self.h[parent] = self.h[parent], self.h[idx]\n",
    "                idx, parent = parent, self.parent(parent)\n",
    "            else:\n",
    "                break\n",
    "    \n",
    "    def get_min(self) -> Optional[Tuple[int]]:\n",
    "        if self.h:\n",
    "            return self.h[0]\n",
    "    \n",
    "    def pop_min(self) -> Tuple[int]: \n",
    "        min_item = self.h[0]\n",
    "        _, min_node = min_item # get min_node\n",
    "        self.map.pop(min_node) # remove min_node from the mapping\n",
    "        last_item = self.h.pop()\n",
    "        if len(self) > 0:\n",
    "            self.h[0] = last_item\n",
    "            _, last_node = last_item # get last_node\n",
    "            self.map[last_node] = 0 # set last_node map position as 0\n",
    "            self.bubble_down(0)\n",
    "        return min_item\n",
    "\n",
    "    def bubble_down(self, idx: int): \n",
    "        l_child, r_child = self.childs(idx)\n",
    "        while l_child < len(self):\n",
    "            if r_child >= len(self) or self.h[l_child] < self.h[r_child]:\n",
    "                min_child = l_child\n",
    "            else:\n",
    "                min_child = r_child\n",
    "                \n",
    "            if self.h[idx] > self.h[min_child]:\n",
    "                idx_node, min_child_node = self.h[idx][1], self.h[min_child][1] # get nodes\n",
    "                self.map[idx_node], self.map[min_child_node] = min_child, idx # swap map positions\n",
    "                self.h[idx], self.h[min_child] = self.h[min_child], self.h[idx]\n",
    "                idx, (l_child, r_child) = min_child, self.childs(min_child)\n",
    "            else:\n",
    "                break\n",
    "    \n",
    "    def parent(self, idx: int) -> Optional[int]:\n",
    "        if idx > 0:\n",
    "            return (idx - 1) >> 1\n",
    "        \n",
    "    def childs(self, idx: int) -> Tuple[int]:\n",
    "        l_child = idx << 1 \n",
    "        return l_child + 1, l_child + 2\n",
    "    \n",
    "    def __len__(self) -> int:\n",
    "        return len(self.h)\n",
    "    \n",
    "    def pop_node(self, node: int) -> Tuple[int]: # now we can delete any node from heap for O(h) time\n",
    "        node_idx = self.map.pop(node)\n",
    "        node_key, _ = self.h[node_idx]\n",
    "        last_key, last_node = self.h.pop()\n",
    "        if node_idx != len(self):\n",
    "            self.h[node_idx] = (last_key, last_node)\n",
    "            self.map[last_node] = node_idx\n",
    "            self.bubble_down(node_idx)\n",
    "            self.bubble_up(node_idx)\n",
    "        return node_key, node\n",
    "    \n",
    "    def __contains__(self, node: int): # and check does we have node in heap\n",
    "        return node in self.map"
   ]
  },
  {
   "cell_type": "code",
   "execution_count": 4,
   "id": "cf894834",
   "metadata": {},
   "outputs": [
    {
     "name": "stdout",
     "output_type": "stream",
     "text": [
      "-3612829\n",
      "-3612829\n"
     ]
    }
   ],
   "source": [
    "from collections import defaultdict\n",
    "import heapq\n",
    "\n",
    "class Graph:\n",
    "    def __init__(self):\n",
    "        self.nodes_num = 0\n",
    "        self.edges_num = 0\n",
    "        self.E = defaultdict(list)\n",
    "        self.W = {}\n",
    "    \n",
    "    def read_file(self, file_name: str):\n",
    "        with open(file_name) as f:\n",
    "            lines = [line.split('\\n')[0] for line in f.readlines()]\n",
    "            self.nodes_num, self.edges_num = list(map(int, lines[0].split(' ')))\n",
    "            for line in lines[1:]:\n",
    "                if line != '':\n",
    "                    node1, node2, weight = list(map(int, line.split(' ')))\n",
    "                    self.W[(node1, node2)] = self.W[(node2, node1)] = weight\n",
    "                    self.E[node1].append(node2)\n",
    "                    self.E[node2].append(node1)\n",
    "                \n",
    "    def prims_stupid(self) -> int:\n",
    "        X = set([1])\n",
    "        weight_sum = 0\n",
    "        while len(X) < self.nodes_num:\n",
    "            min_weight = float('inf')\n",
    "            for edge in self.W:\n",
    "                if (edge[0] in X) != (edge[1] in X):\n",
    "                    if self.W[edge] < min_weight:\n",
    "                        min_weight = self.W[edge]\n",
    "                        min_edge = edge\n",
    "            X.add(min_edge[1])\n",
    "            X.add(min_edge[0])\n",
    "            weight_sum += min_weight\n",
    "        return weight_sum\n",
    "    \n",
    "    def prims_heap(self) -> int:\n",
    "        self.X = set([1])\n",
    "        V_X = MinHeapMap()\n",
    "        for node in range(2, self.nodes_num + 1):\n",
    "            dist = self.W.get((1, node), float('inf'))\n",
    "            V_X.insert((dist, node))\n",
    "        weight_sum = 0\n",
    "        while V_X:\n",
    "            min_weight, min_node = V_X.pop_min()\n",
    "            weight_sum += min_weight\n",
    "            self.X.add(min_node)\n",
    "            for node2 in self.E[min_node]:\n",
    "                if node2 in V_X:\n",
    "                    old_dist, _node2 = V_X.pop_node(node2)\n",
    "                    new_dist = min(old_dist, self.W[(min_node, node2)])\n",
    "                    V_X.insert((new_dist, node2))\n",
    "        return weight_sum\n",
    "\n",
    "G = Graph()\n",
    "G.read_file('edges.txt')"
   ]
  },
  {
   "cell_type": "code",
   "execution_count": 8,
   "id": "459707bd",
   "metadata": {},
   "outputs": [
    {
     "name": "stdout",
     "output_type": "stream",
     "text": [
      "201 ms ± 17.8 ms per loop (mean ± std. dev. of 7 runs, 1 loop each)\n"
     ]
    }
   ],
   "source": [
    "%%timeit\n",
    "G.prims_stupid()"
   ]
  },
  {
   "cell_type": "code",
   "execution_count": 9,
   "id": "8f20646e",
   "metadata": {},
   "outputs": [
    {
     "name": "stdout",
     "output_type": "stream",
     "text": [
      "10.6 ms ± 165 µs per loop (mean ± std. dev. of 7 runs, 100 loops each)\n"
     ]
    }
   ],
   "source": [
    "%%timeit\n",
    "G.prims_heap()"
   ]
  }
 ],
 "metadata": {
  "kernelspec": {
   "display_name": "Python 3 (ipykernel)",
   "language": "python",
   "name": "python3"
  },
  "language_info": {
   "codemirror_mode": {
    "name": "ipython",
    "version": 3
   },
   "file_extension": ".py",
   "mimetype": "text/x-python",
   "name": "python",
   "nbconvert_exporter": "python",
   "pygments_lexer": "ipython3",
   "version": "3.11.1"
  }
 },
 "nbformat": 4,
 "nbformat_minor": 5
}
