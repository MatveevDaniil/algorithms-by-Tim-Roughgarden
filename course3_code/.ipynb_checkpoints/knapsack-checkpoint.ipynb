{
 "cells": [
  {
   "cell_type": "code",
   "execution_count": null,
   "id": "e2202dde",
   "metadata": {},
   "outputs": [],
   "source": [
    "Let A = 2-D array\n",
    "Initialize A[0; x] = 0 for x = 0; 1; : : : ; W\n",
    "For i = 1; 2; : : : ; n\n",
    "For x = 0; 1; : : : ; W\n",
    "A[i; x] := maxf A[i − 1; x] , A[i − 1; x − wi] + vi g\n",
    "Return A[n; W ]"
   ]
  },
  {
   "cell_type": "code",
   "execution_count": 5,
   "id": "6f679b6a",
   "metadata": {},
   "outputs": [],
   "source": [
    "def calc_optimal_size(fname: str) -> int:\n",
    "    with open(fname) as f:\n",
    "        W, N = list(map(int, f.readline().split()))\n",
    "        v, w = [], []\n",
    "        for _ in range(N):\n",
    "            _v, _w = list(map(int, f.readline().split()))\n",
    "            v.append(_v); w.append(_w)\n",
    "            \n",
    "    A = [[0] * (W + 1) for _ in range(N)]\n",
    "    for i in range(N):\n",
    "        for x in range(W + 1):\n",
    "            if x >= w[i]:\n",
    "                A[i][x] = max(A[i - 1][x], A[i - 1][x - w[i]] + v[i])\n",
    "            else:\n",
    "                A[i][x] = A[i - 1][x]\n",
    "    return A[-1][-1]"
   ]
  },
  {
   "cell_type": "code",
   "execution_count": 18,
   "id": "98e14d78",
   "metadata": {},
   "outputs": [],
   "source": [
    "from tqdm import tqdm\n",
    "\n",
    "def calc_optimal_size_O_N(fname: str) -> int:\n",
    "    with open(fname) as f:\n",
    "        W, N = list(map(int, f.readline().split()))\n",
    "        v, w = [], []\n",
    "        for _ in range(N):\n",
    "            _v, _w = list(map(int, f.readline().split()))\n",
    "            v.append(_v); w.append(_w)\n",
    "    print(W, N)\n",
    "#     return\n",
    "    A, A_prev = [0] * (W + 1), [0] * (W + 1)\n",
    "    for i in range(N):\n",
    "        for x in range(W + 1):\n",
    "            if x >= w[i]:\n",
    "                A[x] = max(A_prev[x], A_prev[x - w[i]] + v[i])\n",
    "            else:\n",
    "                A[x] = A_prev[x]\n",
    "        A, A_prev = [0] * (W + 1), A\n",
    "    return A_prev[-1]"
   ]
  },
  {
   "cell_type": "code",
   "execution_count": 6,
   "id": "2e0b5c6f",
   "metadata": {},
   "outputs": [
    {
     "data": {
      "text/plain": [
       "2493893"
      ]
     },
     "execution_count": 6,
     "metadata": {},
     "output_type": "execute_result"
    }
   ],
   "source": [
    "calc_optimal_size('./knapsack1.txt')"
   ]
  }
 ],
 "metadata": {
  "kernelspec": {
   "display_name": "Python 3 (ipykernel)",
   "language": "python",
   "name": "python3"
  },
  "language_info": {
   "codemirror_mode": {
    "name": "ipython",
    "version": 3
   },
   "file_extension": ".py",
   "mimetype": "text/x-python",
   "name": "python",
   "nbconvert_exporter": "python",
   "pygments_lexer": "ipython3",
   "version": "3.11.1"
  }
 },
 "nbformat": 4,
 "nbformat_minor": 5
}
