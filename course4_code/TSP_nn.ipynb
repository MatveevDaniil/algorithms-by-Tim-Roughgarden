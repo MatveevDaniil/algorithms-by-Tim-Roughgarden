{
 "cells": [
  {
   "cell_type": "code",
   "execution_count": 83,
   "id": "4e075df6",
   "metadata": {},
   "outputs": [],
   "source": [
    "cities = []\n",
    "with open('./tests/tsp_nn.txt') as f:\n",
    "    cities_num = int(f.readline())\n",
    "    while line := f.readline():\n",
    "        cities.append(list(map(float, line.split()))[1:])"
   ]
  },
  {
   "cell_type": "code",
   "execution_count": 84,
   "id": "5bdfb45c",
   "metadata": {},
   "outputs": [],
   "source": [
    "from typing import List, Tuple, Union\n",
    "\n",
    "\n",
    "class ListNode:\n",
    "    \n",
    "    def __init__(self, val: Tuple[float]=None, nex: 'ListNode'=None):\n",
    "        self.val = None\n",
    "        if val:\n",
    "            self.val = val\n",
    "        self.nex = None\n",
    "        if nex:\n",
    "            self.nex = nex\n",
    "   \n",
    "\n",
    "class List:\n",
    "    \n",
    "    def __init__(self, values: Union[List[Tuple[float]], List[List[float]]] = None):\n",
    "        self.base = ListNode()\n",
    "        if values:\n",
    "            cur = self.base\n",
    "            for value in values:\n",
    "                cur.nex = ListNode(val=value)\n",
    "                cur = cur.nex\n",
    "    \n",
    "    def pop_next(self, cur: ListNode) -> ListNode:\n",
    "        if cur.nex:\n",
    "            cur_nex = cur.nex\n",
    "            cur.nex = cur_nex.nex\n",
    "            return cur_nex\n",
    "    \n",
    "    def not_empty(self):\n",
    "        return self.base.nex\n",
    "    \n",
    "    def __str__(self):\n",
    "        cur = self.base\n",
    "        while cur.nex:\n",
    "            print(cur.nex.val, end=', ')\n",
    "            cur = cur.nex\n",
    "        return ''"
   ]
  },
  {
   "cell_type": "code",
   "execution_count": 89,
   "id": "0970fd25",
   "metadata": {},
   "outputs": [
    {
     "name": "stdout",
     "output_type": "stream",
     "text": [
      "15.23606797749979\n"
     ]
    }
   ],
   "source": [
    "cur_city = ListNode(cities[0])\n",
    "total_dist = 0\n",
    "\n",
    "def dist2(p1: Tuple[float], p2: Tuple[float]) -> float:\n",
    "    x_diff = p1[0] - p2[0]\n",
    "    y_diff = p1[1] - p2[1]\n",
    "    return x_diff * x_diff + y_diff * y_diff\n",
    "\n",
    "lst = List(cities[1:])\n",
    "dropped = None\n",
    "for i in range(cities_num - 1, 0, -1):\n",
    "    pre_min_city = lst.base\n",
    "    min_dist = float('inf')\n",
    "    iterator = lst.base\n",
    "    for _ in range(i):\n",
    "        cur_dist = dist2(cur_city.val, iterator.nex.val)\n",
    "        if cur_dist < min_dist:\n",
    "            min_dist = cur_dist\n",
    "            pre_min_city = iterator\n",
    "        iterator = iterator.nex\n",
    "    total_dist += min_dist ** 0.5\n",
    "    cur_city = lst.pop_next(pre_min_city)\n",
    "    \n",
    "    \n",
    "print(total_dist + dist2(cities[0], cur_city.val) ** 0.5)"
   ]
  }
 ],
 "metadata": {
  "kernelspec": {
   "display_name": "Python 3 (ipykernel)",
   "language": "python",
   "name": "python3"
  },
  "language_info": {
   "codemirror_mode": {
    "name": "ipython",
    "version": 3
   },
   "file_extension": ".py",
   "mimetype": "text/x-python",
   "name": "python",
   "nbconvert_exporter": "python",
   "pygments_lexer": "ipython3",
   "version": "3.11.1"
  }
 },
 "nbformat": 4,
 "nbformat_minor": 5
}
