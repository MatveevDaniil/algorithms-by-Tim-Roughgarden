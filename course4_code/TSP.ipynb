{
 "cells": [
  {
   "cell_type": "markdown",
   "id": "e57da12f",
   "metadata": {},
   "source": [
    "# Dynamic Programming Algo For TSP"
   ]
  },
  {
   "cell_type": "markdown",
   "id": "edf01425",
   "metadata": {},
   "source": [
    "<img src=\"./img/tsp.png\" style=\"width: 500px\" align=\"left\">"
   ]
  },
  {
   "cell_type": "code",
   "execution_count": 115,
   "id": "a00e3488",
   "metadata": {
    "scrolled": false
   },
   "outputs": [
    {
     "name": "stdout",
     "output_type": "stream",
     "text": [
      "test_idx=1, TSP=10.24, True\n",
      "test_idx=2, TSP=12.36, True\n",
      "test_idx=3, TSP=14.0, True\n"
     ]
    }
   ],
   "source": [
    "from typing import Optional\n",
    "\n",
    "\n",
    "class Graph:\n",
    "    def __init__(self, fname: Optional[str] = None, dist_precalc: Optional[bool] = True):\n",
    "        self.n = 0\n",
    "        self.P = []\n",
    "        self.dist_precalculated = False\n",
    "        if fname:\n",
    "            self.read_file(fname)\n",
    "            if dist_precalc:\n",
    "                self.dist_precalc()\n",
    "    \n",
    "    def calc_dist_2(self, i: int, j: int) -> float:\n",
    "        x1_x2 = self.P[i][0] - self.P[j][0]\n",
    "        y1_y2 = self.P[i][1] - self.P[j][1]\n",
    "        return x1_x2 * x1_x2 + y1_y2 * y1_y2\n",
    "    \n",
    "    def calc_dist(self, i: int, j: int) -> float:\n",
    "        return self.calc_dist_2(i, j) ** 0.5\n",
    "    \n",
    "    def dist_precalc(self):\n",
    "        self.dist_precalculated = True\n",
    "        self.dist = [[0] * self.n for _ in range(self.n)]\n",
    "        self._dist = [0] * (self.n * self.n)\n",
    "        for i in range(self.n):\n",
    "            for j in range(self.n):\n",
    "                self.dist[i][j] = self.calc_dist(i, j)\n",
    "                self._dist[i * self.n + j] = self.calc_dist(i, j)\n",
    "    \n",
    "    def read_file(self, fname: str):\n",
    "        with open(fname) as f:\n",
    "            self.n = int(f.readline()[:-1])\n",
    "            while line := f.readline():\n",
    "                self.P.append(tuple(map(float, line.split())))\n",
    "            assert len(self.P) == self.n\n",
    "   \n",
    "    def tsp_rec(self) -> int:\n",
    "        self.A = [[float('inf')] + [None] * (self.n - 1) for _ in range(1 << self.n)]\n",
    "        self.A[1 << (self.n - 1)][0] = 0\n",
    "        def rec_calc(S: int, j: int):\n",
    "            _S = list(bin(S)[2:])\n",
    "            _S = ['0'] * (self.n - len(_S)) + _S\n",
    "            if self.A[S][j] is not None: return self.A[S][j]\n",
    "            _S[j] = '0'\n",
    "            S_j = int(''.join(_S), 2)\n",
    "            self.A[S][j] = float('inf')\n",
    "            for k in range(self.n):\n",
    "                if _S[k] == '1':\n",
    "                    self.A[S][j] = min(self.A[S][j], rec_calc(S_j, k) + self.dist[k][j])\n",
    "            return self.A[S][j]\n",
    "        self.min_tsp = float('inf')\n",
    "        S = int('1' * self.n, 2)\n",
    "        for j in range(1, self.n):\n",
    "            self.min_tsp = min(self.min_tsp, rec_calc(S, j) + self.dist[j][0])\n",
    "        return self.min_tsp\n",
    "    \n",
    "    def tsp_rec_bit_version(self) -> int:\n",
    "        self.A = [[float('inf')] + [None] * (self.n - 1) for _ in range(1 << self.n)]\n",
    "        self.A[1 << (self.n - 1)][0] = 0\n",
    "        self.max_p = 1 << (self.n - 1)\n",
    "        self.max_p_l = [0] * self.n\n",
    "        for j in range(self.n):\n",
    "            self.max_p_l[j] = self.max_p >> j\n",
    "        def rec_calc(S: int, j:  int):\n",
    "            S_j = (S ^ self.max_p_l[j])\n",
    "            self.A[S][j] = float('inf')\n",
    "            for k in range(self.n):\n",
    "                if (S_j & self.max_p_l[k]):\n",
    "                    if self.A[S_j][k] is not None:\n",
    "                        self.A[S][j] = min(self.A[S][j], self.A[S_j][k] + self.dist[k][j])\n",
    "                        \n",
    "                    else:\n",
    "                        self.A[S][j] = min(self.A[S][j], rec_calc(S_j, k) + self.dist[k][j])\n",
    "            return self.A[S][j]\n",
    "        self.min_tsp = float('inf')\n",
    "        S = int('1' * self.n, 2)\n",
    "        for j in range(1, self.n):\n",
    "            self.min_tsp = min(self.min_tsp, rec_calc(S, j) + self.dist[j][0])\n",
    "        return self.min_tsp\n",
    "   \n",
    "test_ans = {\n",
    "    1: 10.24,\n",
    "    2: 12.36,\n",
    "    3: 14.00\n",
    "}\n",
    "for test_idx in [1, 2, 3]:\n",
    "    g = Graph(f'./tests/tsp{test_idx}.txt')\n",
    "    algo_ans = round(g.tsp_rec_bit_version(), 2)\n",
    "    print(f'test_idx={test_idx}, TSP={algo_ans}, {test_ans[test_idx] == algo_ans}')"
   ]
  },
  {
   "cell_type": "code",
   "execution_count": 112,
   "id": "ebe30472",
   "metadata": {},
   "outputs": [
    {
     "name": "stdout",
     "output_type": "stream",
     "text": [
      "110 µs ± 1.42 µs per loop (mean ± std. dev. of 7 runs, 10,000 loops each)\n"
     ]
    }
   ],
   "source": [
    "%%timeit\n",
    "g = Graph(f'./tests/tsp3.txt')\n",
    "algo_ans = round(g.tsp_rec(), 2)"
   ]
  },
  {
   "cell_type": "code",
   "execution_count": 116,
   "id": "573afda7",
   "metadata": {},
   "outputs": [
    {
     "name": "stdout",
     "output_type": "stream",
     "text": [
      "93.8 µs ± 3.66 µs per loop (mean ± std. dev. of 7 runs, 10,000 loops each)\n"
     ]
    }
   ],
   "source": [
    "%%timeit\n",
    "g = Graph(f'./tests/tsp3.txt')\n",
    "algo_ans = round(g.tsp_rec_bit_version(), 2)"
   ]
  },
  {
   "cell_type": "code",
   "execution_count": 73,
   "id": "eae7ad01",
   "metadata": {},
   "outputs": [
    {
     "data": {
      "image/png": "[encoded data removed]",
      "text/plain": [
       "<Figure size 640x480 with 1 Axes>"
      ]
     },
     "metadata": {},
     "output_type": "display_data"
    }
   ],
   "source": [
    "import matplotlib.pyplot as plt\n",
    "import numpy as np\n",
    "\n",
    "\n",
    "g = Graph(f'./tests/tsp.txt')\n",
    "points = np.array(g.P)\n",
    "plt.scatter(points[:, 0], points[:, 1])\n",
    "plt.show()"
   ]
  },
  {
   "cell_type": "markdown",
   "id": "9f0085f9",
   "metadata": {},
   "source": [
    "Is it a good idea to combine several points, for instance two upper left?"
   ]
  }
 ],
 "metadata": {
  "kernelspec": {
   "display_name": "Python 3 (ipykernel)",
   "language": "python",
   "name": "python3"
  },
  "language_info": {
   "codemirror_mode": {
    "name": "ipython",
    "version": 3
   },
   "file_extension": ".py",
   "mimetype": "text/x-python",
   "name": "python",
   "nbconvert_exporter": "python",
   "pygments_lexer": "ipython3",
   "version": "3.11.1"
  }
 },
 "nbformat": 4,
 "nbformat_minor": 5
}
