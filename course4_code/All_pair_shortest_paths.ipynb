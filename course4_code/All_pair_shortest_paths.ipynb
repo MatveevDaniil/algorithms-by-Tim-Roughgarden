{
 "cells": [
  {
   "cell_type": "markdown",
   "id": "42632129",
   "metadata": {},
   "source": [
    "<img src=\"img/bf_algo.png\" style=\"width: 500px\" align=\"left\">"
   ]
  },
  {
   "cell_type": "markdown",
   "id": "efea614a",
   "metadata": {},
   "source": [
    "here __n__ is the number of nodes"
   ]
  },
  {
   "cell_type": "code",
   "execution_count": 58,
   "id": "70760b7c",
   "metadata": {},
   "outputs": [
    {
     "name": "stdout",
     "output_type": "stream",
     "text": [
      "negative cycle detected\n",
      "None\n"
     ]
    }
   ],
   "source": [
    "from typing import Optional\n",
    "from heapq import *\n",
    "    \n",
    "class Graph:\n",
    "    def __init__(self, fname: Optional[str] = None, tsv_name: Optional[str] = None):\n",
    "        self.n = 0\n",
    "        self.e = 0\n",
    "        self.G = {}\n",
    "        self.G_rev = {}\n",
    "        self.all_edges_positive = True\n",
    "        if fname:\n",
    "            self.read_file(fname)\n",
    "        elif tsv_name:\n",
    "            self.read_tsv(tsv_name)\n",
    "    \n",
    "    def read_file(self, fname: str):\n",
    "        with open(fname) as f:\n",
    "            self.n, self.e = list(map(int, f.readline().split()))\n",
    "            while line := f.readline():\n",
    "                start, end, length = list(map(int, line.split()))\n",
    "                if length < 0:\n",
    "                    self.all_edges_positive = False\n",
    "                if start == end: continue\n",
    "                if start not in self.G:\n",
    "                    self.G[start] = {}\n",
    "                if end not in self.G_rev:\n",
    "                    self.G_rev[end] = {}\n",
    "                self.G[start][end] = length\n",
    "                self.G_rev[end][start] = length\n",
    "    \n",
    "    def read_tsv(self, fname: str):\n",
    "        with open(fname) as f:\n",
    "            while line := f.readline():\n",
    "                line_splited = line.split('\\t')\n",
    "                src = int(line_splited[0])\n",
    "                self.n = max(self.n, src)\n",
    "                self.G[src] = {}\n",
    "                self.G_rev[dst] = {}\n",
    "                for pare in line_splited[1:-1]:\n",
    "                    dst, weight = map(int, pare.split(','))\n",
    "                    self.n = max(self.n, dst)\n",
    "                    self.G[src][dst] = weight\n",
    "                    self.G_rev[dst][src] = weight\n",
    "                    self.e += 1\n",
    "                \n",
    "    def dijkstra(self, src: int) -> Optional[int]:\n",
    "        distList = [None] * (self.n + 1)\n",
    "        heap = [(0, src)]\n",
    "        while heap:\n",
    "            cur_dist, node = heappop(heap)\n",
    "            if distList[node]: continue\n",
    "            distList[node] = cur_dist\n",
    "            for child, child_edge in self.G[node].items():\n",
    "                if distList[child] is None: \n",
    "                    heappush(heap, (child_edge + cur_dist, child))\n",
    "                    \n",
    "        distList[src] = distList[0] = float('inf')\n",
    "        return min(distList)\n",
    "    \n",
    "    def bellman_ford(self, src: int) -> Optional[int]:\n",
    "        A = [float('inf')] * (self.n + 1)\n",
    "        A[src] = 0\n",
    "        for _ in range(self.n - 1):\n",
    "            _A = A.copy()\n",
    "            for v in range(1, self.n + 1):\n",
    "                for w, c_wv in self.G_rev.get(v, {}).items():\n",
    "                    if A[w] + c_wv < _A[v]: _A[v] = A[w] + c_wv\n",
    "            A = _A\n",
    "            \n",
    "        _A = [0] * (self.n + 1)\n",
    "        for v in range(1, self.n + 1):\n",
    "            _A[v] = A[v]\n",
    "            for w, c_wv in self.G_rev.get(v, {}).items():\n",
    "                if A[w] + c_wv < _A[v]: \n",
    "                    print('negative cycle detected')\n",
    "                    return\n",
    "                \n",
    "        A[src] = A[0] = float('inf')\n",
    "        return min(A)\n",
    "        \n",
    "                    \n",
    "\n",
    "g = Graph('./g1.txt')\n",
    "print(g.bellman_ford(1))"
   ]
  },
  {
   "cell_type": "markdown",
   "id": "e6adb892",
   "metadata": {},
   "source": [
    "further implimentation in All_pair_shortest_paths.pypy"
   ]
  },
  {
   "cell_type": "code",
   "execution_count": null,
   "id": "bf174f87",
   "metadata": {},
   "outputs": [],
   "source": []
  }
 ],
 "metadata": {
  "kernelspec": {
   "display_name": "Python 3 (ipykernel)",
   "language": "python",
   "name": "python3"
  },
  "language_info": {
   "codemirror_mode": {
    "name": "ipython",
    "version": 3
   },
   "file_extension": ".py",
   "mimetype": "text/x-python",
   "name": "python",
   "nbconvert_exporter": "python",
   "pygments_lexer": "ipython3",
   "version": "3.11.1"
  }
 },
 "nbformat": 4,
 "nbformat_minor": 5
}
