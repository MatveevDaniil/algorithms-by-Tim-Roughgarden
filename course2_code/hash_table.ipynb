{
 "cells": [
  {
   "cell_type": "code",
   "execution_count": 97,
   "id": "644ea1d9",
   "metadata": {},
   "outputs": [
    {
     "data": {
      "text/plain": [
       "13691190608198703754"
      ]
     },
     "execution_count": 97,
     "metadata": {},
     "output_type": "execute_result"
    }
   ],
   "source": [
    "import re\n",
    "import random\n",
    "import siphash\n",
    "from typing import List\n",
    "\n",
    "with open('sipkeys') as f:\n",
    "    sipkeys = [line.split('\\n')[0].encode() for line in f.readlines()]\n",
    "    \n",
    "def sipkey_hash(num: int, sipkeys: List[bytes]) -> int:\n",
    "    num_as_string = f'{num}'.encode()\n",
    "    sip_key = sipkeys[0]#[random.randint(0, len(sipkeys) - 1)]\n",
    "    return siphash.SipHash_2_4(sip_key, num_as_string).hash()\n",
    "    \n",
    "sipkey_hash(1, sipkeys)"
   ]
  },
  {
   "cell_type": "code",
   "execution_count": 1,
   "id": "698da7cc",
   "metadata": {},
   "outputs": [
    {
     "ename": "SyntaxError",
     "evalue": "incomplete input (1942963783.py, line 8)",
     "output_type": "error",
     "traceback": [
      "\u001b[0;36m  Cell \u001b[0;32mIn[1], line 8\u001b[0;36m\u001b[0m\n\u001b[0;31m    def __load__():\u001b[0m\n\u001b[0m                   ^\u001b[0m\n\u001b[0;31mSyntaxError\u001b[0m\u001b[0;31m:\u001b[0m incomplete input\n"
     ]
    }
   ],
   "source": [
    "import siphash\n",
    "\n",
    "class HashTable:\n",
    "    def __init__(self, hash_func: callable, sipkeys: List[bytes]):\n",
    "        self.arr = [[], [], [], [], []]\n",
    "        self.sipkeys = sipkeys\n",
    "        self.elements_stored = 0\n",
    "        \n",
    "    def __len__(self) -> int:\n",
    "        return len(self.arr)\n",
    "    \n",
    "    def load(self) -> float:\n",
    "        return self.elements_stored / len(self)\n",
    "    \n",
    "    def \n",
    "    \n",
    "    def fix_load(self):\n",
    "        if self.load() > 0.3:\n",
    "            self.arr.extend([list() for i in range(len(self))])"
   ]
  },
  {
   "cell_type": "code",
   "execution_count": 127,
   "id": "79d84baa",
   "metadata": {},
   "outputs": [],
   "source": [
    "nums = open('algo1-programming_prob-2sum.txt').readlines()\n",
    "nums = set([int(re.split('\\n', i)[0]) for i in nums])"
   ]
  },
  {
   "cell_type": "code",
   "execution_count": 130,
   "id": "6bd2749f",
   "metadata": {
    "collapsed": true
   },
   "outputs": [
    {
     "name": "stdout",
     "output_type": "stream",
     "text": [
      "-10000\n",
      "-9000\n",
      "-8000\n",
      "Unexpected exception formatting exception. Falling back to standard exception\n"
     ]
    },
    {
     "name": "stderr",
     "output_type": "stream",
     "text": [
      "Traceback (most recent call last):\n",
      "  File \"/Users/daniil/.pyenv/versions/3.11.1/lib/python3.11/site-packages/IPython/core/interactiveshell.py\", line 3442, in run_code\n",
      "    exec(code_obj, self.user_global_ns, self.user_ns)\n",
      "  File \"/var/folders/xy/jxf0z1nn79303dmzyqcr9x5c0000gn/T/ipykernel_17552/1888749104.py\", line -1, in <module>\n",
      "KeyboardInterrupt\n",
      "\n",
      "During handling of the above exception, another exception occurred:\n",
      "\n",
      "Traceback (most recent call last):\n",
      "  File \"/Users/daniil/.pyenv/versions/3.11.1/lib/python3.11/site-packages/IPython/core/interactiveshell.py\", line 2057, in showtraceback\n",
      "    stb = self.InteractiveTB.structured_traceback(\n",
      "          ^^^^^^^^^^^^^^^^^^^^^^^^^^^^^^^^^^^^^^^^\n",
      "  File \"/Users/daniil/.pyenv/versions/3.11.1/lib/python3.11/site-packages/IPython/core/ultratb.py\", line 1118, in structured_traceback\n",
      "    return FormattedTB.structured_traceback(\n",
      "           ^^^^^^^^^^^^^^^^^^^^^^^^^^^^^^^^^\n",
      "  File \"/Users/daniil/.pyenv/versions/3.11.1/lib/python3.11/site-packages/IPython/core/ultratb.py\", line 1012, in structured_traceback\n",
      "    return VerboseTB.structured_traceback(\n",
      "           ^^^^^^^^^^^^^^^^^^^^^^^^^^^^^^^\n",
      "  File \"/Users/daniil/.pyenv/versions/3.11.1/lib/python3.11/site-packages/IPython/core/ultratb.py\", line 865, in structured_traceback\n",
      "    formatted_exception = self.format_exception_as_a_whole(etype, evalue, etb, number_of_lines_of_context,\n",
      "                          ^^^^^^^^^^^^^^^^^^^^^^^^^^^^^^^^^^^^^^^^^^^^^^^^^^^^^^^^^^^^^^^^^^^^^^^^^^^^^^^^\n",
      "  File \"/Users/daniil/.pyenv/versions/3.11.1/lib/python3.11/site-packages/IPython/core/ultratb.py\", line 818, in format_exception_as_a_whole\n",
      "    frames.append(self.format_record(r))\n",
      "                  ^^^^^^^^^^^^^^^^^^^^^\n",
      "  File \"/Users/daniil/.pyenv/versions/3.11.1/lib/python3.11/site-packages/IPython/core/ultratb.py\", line 736, in format_record\n",
      "    result += ''.join(_format_traceback_lines(frame_info.lines, Colors, self.has_colors, lvals))\n",
      "                                              ^^^^^^^^^^^^^^^^\n",
      "  File \"/Users/daniil/.pyenv/versions/3.11.1/lib/python3.11/site-packages/stack_data/utils.py\", line 144, in cached_property_wrapper\n",
      "    value = obj.__dict__[self.func.__name__] = self.func(obj)\n",
      "                                               ^^^^^^^^^^^^^^\n",
      "  File \"/Users/daniil/.pyenv/versions/3.11.1/lib/python3.11/site-packages/stack_data/core.py\", line 734, in lines\n",
      "    pieces = self.included_pieces\n",
      "             ^^^^^^^^^^^^^^^^^^^^\n",
      "  File \"/Users/daniil/.pyenv/versions/3.11.1/lib/python3.11/site-packages/stack_data/utils.py\", line 144, in cached_property_wrapper\n",
      "    value = obj.__dict__[self.func.__name__] = self.func(obj)\n",
      "                                               ^^^^^^^^^^^^^^\n",
      "  File \"/Users/daniil/.pyenv/versions/3.11.1/lib/python3.11/site-packages/stack_data/core.py\", line 681, in included_pieces\n",
      "    pos = scope_pieces.index(self.executing_piece)\n",
      "                             ^^^^^^^^^^^^^^^^^^^^\n",
      "  File \"/Users/daniil/.pyenv/versions/3.11.1/lib/python3.11/site-packages/stack_data/utils.py\", line 144, in cached_property_wrapper\n",
      "    value = obj.__dict__[self.func.__name__] = self.func(obj)\n",
      "                                               ^^^^^^^^^^^^^^\n",
      "  File \"/Users/daniil/.pyenv/versions/3.11.1/lib/python3.11/site-packages/stack_data/core.py\", line 660, in executing_piece\n",
      "    return only(\n",
      "           ^^^^^\n",
      "  File \"/Users/daniil/.pyenv/versions/3.11.1/lib/python3.11/site-packages/executing/executing.py\", line 190, in only\n",
      "    raise NotOneValueFound('Expected one value, found 0')\n",
      "executing.executing.NotOneValueFound: Expected one value, found 0\n"
     ]
    }
   ],
   "source": [
    "cnt = 0\n",
    "for target in range(-10000, 10001):\n",
    "    if target % 1000 == 0:\n",
    "        print(target)\n",
    "    for num in nums:\n",
    "        num2 = target - num\n",
    "        if num2 != num and num2 in nums:\n",
    "            cnt += 1\n",
    "            break"
   ]
  },
  {
   "cell_type": "markdown",
   "id": "401b5b6c",
   "metadata": {},
   "source": [
    "well python is obviously too slow for this task, so I rewrited code in c++"
   ]
  }
 ],
 "metadata": {
  "kernelspec": {
   "display_name": "Python 3 (ipykernel)",
   "language": "python",
   "name": "python3"
  },
  "language_info": {
   "codemirror_mode": {
    "name": "ipython",
    "version": 3
   },
   "file_extension": ".py",
   "mimetype": "text/x-python",
   "name": "python",
   "nbconvert_exporter": "python",
   "pygments_lexer": "ipython3",
   "version": "3.11.1"
  }
 },
 "nbformat": 4,
 "nbformat_minor": 5
}
