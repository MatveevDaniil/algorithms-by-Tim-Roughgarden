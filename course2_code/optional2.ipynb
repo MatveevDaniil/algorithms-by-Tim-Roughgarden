{
 "cells": [
  {
   "cell_type": "markdown",
   "id": "774b6289",
   "metadata": {},
   "source": [
    "1) In lecture we define the length of a path to be the sum of the lengths of its edges. Define the bottleneck of a path to be the maximum length of one of its edges. A mininum-bottleneck path between two vertices ss and tt is a path with bottleneck no larger than that of any other $s-t$ path. Show how to modify Dijkstra's algorithm to compute a minimum-bottleneck path between two given vertices. The running time should be $O(m \\log n)$, as in lecture.\n",
    "\n",
    "2) We can do better. Suppose now that the graph is undirected. Give a linear-time $(O(m)$) algorithm to compute a minimum-bottleneck path between two given vertices.\n",
    "\n",
    "3) What if the graph is directed? Can you compute a minimum-bottleneck path between two given vertices faster than $O(m \\log n)$?"
   ]
  },
  {
   "cell_type": "markdown",
   "id": "d1d117be",
   "metadata": {},
   "source": [
    "1) For the 1st question it seems to be easy, we just need to use tropical addition:"
   ]
  },
  {
   "cell_type": "code",
   "execution_count": null,
   "id": "c45633d1",
   "metadata": {},
   "outputs": [],
   "source": [
    "def dijkstra(self) -> Dict[int, int]:\n",
    "    distance = dict([(i, float('inf')) for i in range(2, self.N + 1)] + [(1, 0)])\n",
    "    visited = set()\n",
    "    min_dist = [(0, 1)]\n",
    "    while min_dist:\n",
    "        node_dist, node = heapq.heappop(min_dist)\n",
    "        if node not in visited:\n",
    "            visited.add(node) \n",
    "            for neighbour in self.v2v2weight[node]:\n",
    "                if neighbour not in visited:\n",
    "                    # tropical addition:\n",
    "                    this_dist = max(distance[node], self.v2v2weight[node][neighbour])\n",
    "                    # classical len:\n",
    "                    # this_dist = distance[node] + self.v2v2weight[node][neighbour]\n",
    "                    if distance[neighbour] > this_dist:\n",
    "                        distance[neighbour] = this_dist\n",
    "                        heapq.heappush(min_dist, (this_dist, neighbour))\n",
    "    return distance"
   ]
  },
  {
   "cell_type": "markdown",
   "id": "bcbb2d54",
   "metadata": {},
   "source": [
    "2) For the 2nd question:\n",
    "```\n",
    "Algorithm 1 A BSP algorithm for undirected graphs\n",
    "1: INPUT: an undirected graph G = (V,E) with edge weights ce ∈ N for all e ∈ E,\n",
    "and source and target vertices s, t ∈ V ;\n",
    "w.l.o.g. all edge weights are different, and there is an s–t–path.\n",
    "2: Initialize Iterationcount ← 0\n",
    "3: while Iterationcount < ⌈log m⌉ do\n",
    "4: Determine the median value M of the edge weights of the edges cur-\n",
    "rently in the graph.\n",
    "5: Remove all edges e with small weight ce < M.\n",
    "6: if the graph is not s–t–connected then\n",
    "7: LetV1,...,Vq betheconnectedcomponents.\n",
    "8: Reinsert all edges removed in this iteration.\n",
    "9: Shrink V1,...,Vq.\n",
    "10: end if\n",
    "11: Iterationcount ← Iterationcount + 1\n",
    "12: end while\n",
    "13: OUTPUT: the last remaining edge as a critical edge\n",
    "```"
   ]
  },
  {
   "cell_type": "code",
   "execution_count": null,
   "id": "f3bb55b0",
   "metadata": {},
   "outputs": [],
   "source": []
  }
 ],
 "metadata": {
  "kernelspec": {
   "display_name": "Python 3 (ipykernel)",
   "language": "python",
   "name": "python3"
  },
  "language_info": {
   "codemirror_mode": {
    "name": "ipython",
    "version": 3
   },
   "file_extension": ".py",
   "mimetype": "text/x-python",
   "name": "python",
   "nbconvert_exporter": "python",
   "pygments_lexer": "ipython3",
   "version": "3.11.1"
  }
 },
 "nbformat": 4,
 "nbformat_minor": 5
}
