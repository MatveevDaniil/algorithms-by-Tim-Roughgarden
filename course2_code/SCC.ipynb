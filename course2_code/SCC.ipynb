{
 "cells": [
  {
   "cell_type": "markdown",
   "id": "0e7d429e",
   "metadata": {},
   "source": [
    "# Strongly Conected Components search"
   ]
  },
  {
   "cell_type": "markdown",
   "id": "48fcd828",
   "metadata": {},
   "source": [
    "__Idea of the algorithm from the lectures:__"
   ]
  },
  {
   "cell_type": "markdown",
   "id": "10cf603c",
   "metadata": {},
   "source": [
    "<img src=\"img/SCC_algo_idea.png\" style=\"width: 500px\" align=\"left\">"
   ]
  },
  {
   "cell_type": "markdown",
   "id": "8fd645bf",
   "metadata": {},
   "source": [
    "__DFS loop from the lectures:__"
   ]
  },
  {
   "cell_type": "markdown",
   "id": "220827bf",
   "metadata": {},
   "source": [
    "<img src=\"img/DFS_loop.png\" align=\"left\" style=\"width: 500px\">"
   ]
  },
  {
   "cell_type": "markdown",
   "id": "3aec631e",
   "metadata": {},
   "source": [
    "__let's create an implimentation of the Graph as nodes adjacency list__:\n"
   ]
  },
  {
   "cell_type": "code",
   "execution_count": 1,
   "id": "8d063ca3",
   "metadata": {},
   "outputs": [],
   "source": [
    "from typing import Dict, List\n",
    "\n",
    "\n",
    "class Graph:\n",
    "    def __init__(self):\n",
    "        self.G = {}\n",
    "        self.Grev = {}\n",
    "        self.NodeRange = 0\n",
    "    \n",
    "    def read_file(self, fname: str='SCC.txt'):\n",
    "        with open(fname) as f:\n",
    "            while line := f.readline():\n",
    "                if line == '\\n':\n",
    "                    continue\n",
    "                tail, head = list(map(int, line.split('\\n')[0].split(' ')[:2]))\n",
    "                if tail not in self.G:\n",
    "                    self.G[tail] = []\n",
    "                self.G[tail].append(head)\n",
    "                if head not in self.Grev:\n",
    "                    self.Grev[head] = []\n",
    "                self.Grev[head].append(tail)\n",
    "                self.NodeRange = max(self.NodeRange, head, tail)\n",
    "        \n",
    "    def dfs_loop_rev(self) -> Dict[int, int]:\n",
    "        visited = set()\n",
    "        stack = []\n",
    "        order = 0\n",
    "        f = {}\n",
    "        for node in range(1, self.NodeRange + 1):\n",
    "            if node in visited:\n",
    "                continue\n",
    "            stack.append(node)\n",
    "            \n",
    "            while stack:\n",
    "                has_children = False\n",
    "                next_node = stack[-1]\n",
    "                visited.add(next_node)    # !!!everything we add to stack we add to visited\n",
    "                for child in self.Grev.get(next_node, []):\n",
    "                    if child not in visited:\n",
    "                        stack.append(child)\n",
    "                        visited.add(child)    # !!!everything we add to stack we add to visited\n",
    "                        # we will delete items from the stack only after we have seen all the children\n",
    "                        has_children = True   \n",
    "                if not has_children:\n",
    "                    poped = stack.pop()\n",
    "                    order += 1\n",
    "                    f[order] = poped\n",
    "        return f\n",
    "    \n",
    "    def dfs_loop(self, f: Dict[int, int]) -> Dict[int, List[int]]:\n",
    "        visited = set()\n",
    "        stack = []\n",
    "        scc_dict = {}\n",
    "        for i in range(self.NodeRange, 0, -1):\n",
    "            node = f[i]\n",
    "            if node in visited:\n",
    "                continue\n",
    "            stack.append(node) # !!!everything we add to stack we add to visited\n",
    "            visited.add(node)\n",
    "            scc_dict[node] = []\n",
    "            while stack:\n",
    "                next_node = stack.pop()\n",
    "                visited.add(next_node)\n",
    "                for child in self.G.get(next_node, []):\n",
    "                    if child not in visited:\n",
    "                        stack.append(child)\n",
    "                        scc_dict[node].append(child)\n",
    "                        visited.add(child) # !!!everything we add to stack we add to visited\n",
    "        return scc_dict\n",
    "    \n",
    "    def find_SCC(self) -> Dict[int, List[int]]:\n",
    "        f = self.dfs_loop_rev()\n",
    "        scc_dict = self.dfs_loop(f)\n",
    "        return scc_dict\n",
    "    \n",
    "    def find_SCC_lens(self) -> List[int]:\n",
    "        lens = list(sorted([len(item) + 1 for item in self.find_SCC().values()], reverse=True))\n",
    "        return lens"
   ]
  },
  {
   "cell_type": "code",
   "execution_count": 3,
   "id": "01c6dba0",
   "metadata": {},
   "outputs": [
    {
     "name": "stdout",
     "output_type": "stream",
     "text": [
      "434821,968,459,313,211\n"
     ]
    }
   ],
   "source": [
    "gr = Graph()\n",
    "gr.read_file('SCC.txt')\n",
    "lens = gr.find_SCC_lens()[:5]\n",
    "print(*lens[:5] + [0] * (5 - min(len(lens), 5)), sep=',')"
   ]
  },
  {
   "cell_type": "code",
   "execution_count": 5,
   "id": "a887ec0e",
   "metadata": {},
   "outputs": [
    {
     "data": {
      "text/plain": [
       "{}"
      ]
     },
     "execution_count": 5,
     "metadata": {},
     "output_type": "execute_result"
    }
   ],
   "source": [
    "a = {10:2}\n",
    "a.pop(10)\n",
    "a"
   ]
  }
 ],
 "metadata": {
  "kernelspec": {
   "display_name": "Python 3 (ipykernel)",
   "language": "python",
   "name": "python3"
  },
  "language_info": {
   "codemirror_mode": {
    "name": "ipython",
    "version": 3
   },
   "file_extension": ".py",
   "mimetype": "text/x-python",
   "name": "python",
   "nbconvert_exporter": "python",
   "pygments_lexer": "ipython3",
   "version": "3.11.1"
  }
 },
 "nbformat": 4,
 "nbformat_minor": 5
}
