{
 "cells": [
  {
   "cell_type": "markdown",
   "id": "79c27137",
   "metadata": {},
   "source": [
    "I found the algorithm in the video hard to implement on python, since operations such as __delete__ and __re-insert__ are not part of the heapq package, so I used algorithm described hear: [leetcode example](https://leetcode.com/problems/network-delay-time/solutions/329376/efficient-oe-log-v-python-dijkstra-min-heap-with-explanation/).\n"
   ]
  },
  {
   "cell_type": "markdown",
   "id": "024825f1",
   "metadata": {},
   "source": [
    "## Python implementation details:\n",
    "\n",
    "<ol>\n",
    "<li>Construct adjacency list representation of a directional graph using a defaultdict of dicts</li>\n",
    "<li>Track visited vertices in a set</li>\n",
    "<li>Track known distances from 1 to all other vertices in a dict. Initialize this with a 0 to 1.</li>\n",
    "<li>Use a <code>min_dist</code> heapq to maintain minheap of (distance, vertex) tuples. Initialize with (0,1).</li>\n",
    "</ol>\n",
    "\n",
    "## Pseudocode for the algorithm is:\n",
    "<ol>\n",
    "<li>While the <code>min_dist</code> is not empty, pop vertices in the order of minimal <code>cur_dist</code> , skip visited</li>\n",
    "<li>Visit the current vertex and check if any of its unvisited neighbors' known <code>distances</code> can be improved. This is the case if <code>this_dist</code> is less than <code>distances[neighbor]</code>.</li>\n",
    "<li>Update the known distances and add new shorter distances onto the <code>min_dist</code> min heap if above is true.</li></ol>"
   ]
  },
  {
   "cell_type": "code",
   "execution_count": 1,
   "id": "b0c3dcae",
   "metadata": {
    "scrolled": true
   },
   "outputs": [],
   "source": [
    "import heapq\n",
    "from typing import Dict\n",
    "\n",
    "class Graph:\n",
    "    def __init__(self):\n",
    "        self.v2v2weight = {} # vertex to vertex to weight\n",
    "        self.N = 0\n",
    "    \n",
    "    def read_file(self, fname: str):\n",
    "        input_file = open(fname)\n",
    "        while line := input_file.readline():\n",
    "            line_splited = line.split('\\t')\n",
    "            src = int(line_splited[0])\n",
    "            self.N = max(self.N, src)\n",
    "            self.v2v2weight[src] = {}\n",
    "            for pare in line_splited[1:-1]:\n",
    "                dst, weight = map(int, pare.split(','))\n",
    "                self.N = max(self.N, dst)\n",
    "                self.v2v2weight[src][dst] = weight\n",
    "        input_file.close()\n",
    "        \n",
    "    def dijkstra(self) -> Dict[int, int]:\n",
    "        distance = dict([(i, float('inf')) for i in range(2, self.N + 1)] + [(1, 0)])\n",
    "        visited = set()\n",
    "        min_dist = [(0, 1)]\n",
    "        while min_dist:\n",
    "            node_dist, node = heapq.heappop(min_dist)\n",
    "            if node not in visited:\n",
    "                visited.add(node) \n",
    "                for neighbour in self.v2v2weight[node]:\n",
    "                    if neighbour not in visited:\n",
    "                        this_dist = distance[node] + self.v2v2weight[node][neighbour]\n",
    "                        if distance[neighbour] > this_dist:\n",
    "                            distance[neighbour] = this_dist\n",
    "                            heapq.heappush(min_dist, (this_dist, neighbour))\n",
    "        return distance"
   ]
  },
  {
   "cell_type": "markdown",
   "id": "6d79a1a9",
   "metadata": {},
   "source": [
    "let's analyze implimentation:\n",
    "\n",
    "after visiting node, we won't visit it's neighbours again $\\Rightarrow$ we visit every node of the graph $\\leq 1$ time. heappop and heappush have $O(\\log m)$ complexity, where $m=|E|$ => total complexity $O(m \\log m)=O(m \\log n(n-1))=O(m \\log n)$ what is the same as the algorithm from the lectures."
   ]
  },
  {
   "cell_type": "code",
   "execution_count": 2,
   "id": "60de0e96",
   "metadata": {},
   "outputs": [],
   "source": [
    "G = Graph()\n",
    "G.read_file('dijkstraData.txt')\n",
    "dist = G.dijkstra()"
   ]
  }
 ],
 "metadata": {
  "kernelspec": {
   "display_name": "Python 3 (ipykernel)",
   "language": "python",
   "name": "python3"
  },
  "language_info": {
   "codemirror_mode": {
    "name": "ipython",
    "version": 3
   },
   "file_extension": ".py",
   "mimetype": "text/x-python",
   "name": "python",
   "nbconvert_exporter": "python",
   "pygments_lexer": "ipython3",
   "version": "3.11.1"
  }
 },
 "nbformat": 4,
 "nbformat_minor": 5
}
